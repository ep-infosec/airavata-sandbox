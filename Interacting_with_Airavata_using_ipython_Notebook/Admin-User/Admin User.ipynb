{
 "cells": [
  {
   "cell_type": "code",
   "execution_count": 15,
   "metadata": {
    "collapsed": false
   },
   "outputs": [],
   "source": [
    "import ConfigParser\n",
    "import pandas as pd\n",
    "import datetime\n",
    "from datetime import datetime\n",
    "import calendar\n",
    "import matplotlib.pyplot as plt\n",
    "%matplotlib inline\n",
    "conf = ConfigParser.RawConfigParser()\n",
    "conf.read('cli.properties')\n",
    "hostName = conf.get('AiravataServer', 'host')\n",
    "port = conf.get('AiravataServer', 'port')"
   ]
  },
  {
   "cell_type": "code",
   "execution_count": 2,
   "metadata": {
    "collapsed": false,
    "scrolled": false
   },
   "outputs": [
    {
     "name": "stdout",
     "output_type": "stream",
     "text": [
      "AuthzToken(claimsMap={'userName': 'admin', 'gatewayID': 'seagrid'}, accessToken='empty-token')\n",
      "0.17.0\n",
      "0.17.0\n",
      "\n",
      "Welcome to Airavata CLI v0.0.1 - Wirtten in python\n",
      "\n",
      "\n",
      "None\n"
     ]
    }
   ],
   "source": [
    "from airavata_cli import AiravataCLI\n",
    "airavata_cli = AiravataCLI(hostName, int(port))\n",
    "print(airavata_cli.printVersion())"
   ]
  },
  {
   "cell_type": "markdown",
   "metadata": {
    "collapsed": false
   },
   "source": [
    "## Making Sure we are connected to the right Gateway"
   ]
  },
  {
   "cell_type": "code",
   "execution_count": 3,
   "metadata": {
    "collapsed": false,
    "scrolled": false
   },
   "outputs": [
    {
     "data": {
      "text/plain": [
       "[Gateway(gatewayId='Arc', emailAddress='airavata.Arc', domain='Arc', gatewayName=None),\n",
       " Gateway(gatewayId='brandeis', emailAddress=None, domain='Brandeis University Science Gateway', gatewayName=None),\n",
       " Gateway(gatewayId='chemcompute', emailAddress=None, domain='Chem Compute Gateway', gatewayName=None),\n",
       " Gateway(gatewayId='cornelldna', emailAddress='dreg.cornell', domain='dREG DNA Sequencing', gatewayName=None),\n",
       " Gateway(gatewayId='default', emailAddress=None, domain='Testdrive Portal', gatewayName=None),\n",
       " Gateway(gatewayId='georgiastate', emailAddress=None, domain='Georgia State PHP Gateway', gatewayName=None),\n",
       " Gateway(gatewayId='iugateway', emailAddress=None, domain='IU Gateway', gatewayName=None),\n",
       " Gateway(gatewayId='lsu', emailAddress=None, domain='LSU Cybergateway', gatewayName=None),\n",
       " Gateway(gatewayId='New Physics Gateway 5', emailAddress=None, domain='New Physics Gateway 5', gatewayName=None),\n",
       " Gateway(gatewayId='newg', emailAddress=None, domain='newg', gatewayName=None),\n",
       " Gateway(gatewayId='nsg', emailAddress=None, domain='Neuro Science Gateway', gatewayName=None),\n",
       " Gateway(gatewayId='oiitandy', emailAddress=None, domain='OII Science Gateway', gatewayName=None),\n",
       " Gateway(gatewayId='oscer', emailAddress=None, domain='Oklahoma University Science Gateway', gatewayName=None),\n",
       " Gateway(gatewayId='phasta', emailAddress=None, domain='PHASTA Science Gateway', gatewayName=None),\n",
       " Gateway(gatewayId='scigap', emailAddress=None, domain='SciGaP Portal', gatewayName=None),\n",
       " Gateway(gatewayId='scigap-physics', emailAddress=None, domain='Physics Gateway', gatewayName=None),\n",
       " Gateway(gatewayId='scigap-weather', emailAddress=None, domain='Wether Forecasting Gateway', gatewayName=None),\n",
       " Gateway(gatewayId='sdfsdf', emailAddress=None, domain='sdfsdf', gatewayName=None),\n",
       " Gateway(gatewayId='seagrid', emailAddress=None, domain='SEAGrid Portal', gatewayName=None),\n",
       " Gateway(gatewayId='simvascular', emailAddress=None, domain='SimVascular', gatewayName=None),\n",
       " Gateway(gatewayId='southdakota', emailAddress=None, domain='South Dakota CyberGateway', gatewayName=None),\n",
       " Gateway(gatewayId='southill', emailAddress=None, domain='Southern Illinois PHP Gateway', gatewayName=None),\n",
       " Gateway(gatewayId='TestResearch1', emailAddress=None, domain='TestResearch1', gatewayName=None),\n",
       " Gateway(gatewayId='utah', emailAddress=None, domain='Utah-Gateway', gatewayName=None)]"
      ]
     },
     "execution_count": 3,
     "metadata": {},
     "output_type": "execute_result"
    }
   ],
   "source": [
    "airavata_cli.get_gatewaylist()"
   ]
  },
  {
   "cell_type": "markdown",
   "metadata": {
    "collapsed": true
   },
   "source": [
    "## List of Resources the Gateway uses"
   ]
  },
  {
   "cell_type": "code",
   "execution_count": 4,
   "metadata": {
    "collapsed": false
   },
   "outputs": [
    {
     "data": {
      "text/plain": [
       "[('jetstream.chemcompute.org_d87012a7-afbd-4439-b199-c5141045ea4d',\n",
       "  'jetstream.chemcompute.org'),\n",
       " ('series.usda.gov_46bd9f3e-ab96-463b-ab5e-4e7cc527694f', 'series.usda.gov'),\n",
       " ('smic.hpc.lsu.edu_6b72d6d8-533b-42f5-9a67-8a596f719fe7', 'smic.hpc.lsu.edu'),\n",
       " ('ember.chpc.utah.edu_6fd6fb6f-4656-40d3-afa4-3521407cf14b',\n",
       "  'ember.chpc.utah.edu'),\n",
       " ('mason.uits.iu.edu_4910ad55-317b-49c9-8cc1-032da55f974a',\n",
       "  'mason.uits.iu.edu'),\n",
       " ('JetStream_3fe9cc27-26f2-45a7-bccd-c6c07d70e881',\n",
       "  'js-170-153.jetstream-cloud.org'),\n",
       " ('test_511bb8bd-b2ef-423e-958e-7a0531226dbe', 'test'),\n",
       " ('BlueWaterII_9db6f84b-a099-40db-8d51-0f81b716b4cd', 'BlueWaterII'),\n",
       " ('tandy.oii.org_93580801-f1ae-4faa-a052-46a8e21a8772',\n",
       "  'tcs.tandysupercomputing.org'),\n",
       " ('gordon.sdsc.edu_bb11b481-fe7e-44d4-95ba-d3ffcd08bf08', 'gordon.sdsc.edu'),\n",
       " ('TestKarst_ef43b68c-9fe6-419c-873e-f3efc63aeef7', 'TestKarst'),\n",
       " ('hpclogin.gsu.edu_964e7e13-f278-4bf5-8482-c8f07b556d52', 'hpclogin.gsu.edu'),\n",
       " ('hpc.usd.edu_b4bd47b0-6093-4166-8c02-c882bf6657af', 'hpc.usd.edu'),\n",
       " ('schooner.oscer.ou.edu_d5a3bcef-93c9-44c0-acea-c79095b50a38',\n",
       "  'schooner.oscer.ou.edu'),\n",
       " ('bridges.psc.edu_8e9bcd61-1f55-4926-a9b4-0cbe3d0eee8c', 'bridges.psc.edu'),\n",
       " ('stampede.tacc.xsede.org_ea585ade-831f-4ad1-91c6-d897fb170e3b',\n",
       "  'stampede.tacc.xsede.org'),\n",
       " ('karst.uits.iu.edu_a9a65e7d-d104-4c11-829b-412168bed7a8',\n",
       "  'karst.uits.iu.edu'),\n",
       " ('philip.hpc.lsu.edu_ae3007b2-93ea-4817-a7c1-2ed79061d182',\n",
       "  'philip.hpc.lsu.edu'),\n",
       " ('login-knl1.stampede.tacc.utexas.edu_5ea26511-1fa6-407d-93a8-7552a301ee53',\n",
       "  'login-knl1.stampede.tacc.utexas.edu'),\n",
       " ('js-156-20.jetstream-cloud.org_e9d76f84-2869-4d43-9d12-54320d10286f',\n",
       "  'js-156-20.jetstream-cloud.org'),\n",
       " ('bigred2.uits.iu.edu_ac140dca-3c88-46d8-b9ed-875d96ea6908',\n",
       "  'bigred2.uits.iu.edu'),\n",
       " ('kingspeak_0c37628f-ed16-414c-82a5-25d0fc031f8d', 'kingspeak.chpc.utah.edu'),\n",
       " ('alamo.uthscsa.edu_5612cc49-e6ba-4e53-bb9a-7741e95ce98b',\n",
       "  'alamo.uthscsa.edu'),\n",
       " ('comet.sdsc.edu_91b900df-0ee0-4909-89b3-98e8f64e1969', 'comet.sdsc.edu'),\n",
       " ('login-ld.research.siu.edu_7e01b6fe-3e16-430c-9935-4b002fc868cd',\n",
       "  'login-ld.research.siu.edu'),\n",
       " ('lonestar.tacc.utexas.edu_0d2d81a2-af4f-48c3-8be9-2093ebe2b866',\n",
       "  'lonestar.tacc.utexas.edu')]"
      ]
     },
     "execution_count": 4,
     "metadata": {},
     "output_type": "execute_result"
    }
   ],
   "source": [
    "airavata_cli.computer_resources().items()"
   ]
  },
  {
   "cell_type": "code",
   "execution_count": 5,
   "metadata": {
    "collapsed": false
   },
   "outputs": [
    {
     "data": {
      "text/html": [
       "<div>\n",
       "<table border=\"1\" class=\"dataframe\">\n",
       "  <thead>\n",
       "    <tr style=\"text-align: right;\">\n",
       "      <th></th>\n",
       "      <th>Id</th>\n",
       "      <th>Name</th>\n",
       "    </tr>\n",
       "  </thead>\n",
       "  <tbody>\n",
       "    <tr>\n",
       "      <th>0</th>\n",
       "      <td>jetstream.chemcompute.org_d87012a7-afbd-4439-b...</td>\n",
       "      <td>jetstream.chemcompute.org</td>\n",
       "    </tr>\n",
       "    <tr>\n",
       "      <th>1</th>\n",
       "      <td>series.usda.gov_46bd9f3e-ab96-463b-ab5e-4e7cc5...</td>\n",
       "      <td>series.usda.gov</td>\n",
       "    </tr>\n",
       "    <tr>\n",
       "      <th>2</th>\n",
       "      <td>smic.hpc.lsu.edu_6b72d6d8-533b-42f5-9a67-8a596...</td>\n",
       "      <td>smic.hpc.lsu.edu</td>\n",
       "    </tr>\n",
       "    <tr>\n",
       "      <th>3</th>\n",
       "      <td>ember.chpc.utah.edu_6fd6fb6f-4656-40d3-afa4-35...</td>\n",
       "      <td>ember.chpc.utah.edu</td>\n",
       "    </tr>\n",
       "    <tr>\n",
       "      <th>4</th>\n",
       "      <td>mason.uits.iu.edu_4910ad55-317b-49c9-8cc1-032d...</td>\n",
       "      <td>mason.uits.iu.edu</td>\n",
       "    </tr>\n",
       "    <tr>\n",
       "      <th>5</th>\n",
       "      <td>JetStream_3fe9cc27-26f2-45a7-bccd-c6c07d70e881</td>\n",
       "      <td>js-170-153.jetstream-cloud.org</td>\n",
       "    </tr>\n",
       "    <tr>\n",
       "      <th>6</th>\n",
       "      <td>test_511bb8bd-b2ef-423e-958e-7a0531226dbe</td>\n",
       "      <td>test</td>\n",
       "    </tr>\n",
       "    <tr>\n",
       "      <th>7</th>\n",
       "      <td>BlueWaterII_9db6f84b-a099-40db-8d51-0f81b716b4cd</td>\n",
       "      <td>BlueWaterII</td>\n",
       "    </tr>\n",
       "    <tr>\n",
       "      <th>8</th>\n",
       "      <td>tandy.oii.org_93580801-f1ae-4faa-a052-46a8e21a...</td>\n",
       "      <td>tcs.tandysupercomputing.org</td>\n",
       "    </tr>\n",
       "    <tr>\n",
       "      <th>9</th>\n",
       "      <td>gordon.sdsc.edu_bb11b481-fe7e-44d4-95ba-d3ffcd...</td>\n",
       "      <td>gordon.sdsc.edu</td>\n",
       "    </tr>\n",
       "    <tr>\n",
       "      <th>10</th>\n",
       "      <td>TestKarst_ef43b68c-9fe6-419c-873e-f3efc63aeef7</td>\n",
       "      <td>TestKarst</td>\n",
       "    </tr>\n",
       "    <tr>\n",
       "      <th>11</th>\n",
       "      <td>hpclogin.gsu.edu_964e7e13-f278-4bf5-8482-c8f07...</td>\n",
       "      <td>hpclogin.gsu.edu</td>\n",
       "    </tr>\n",
       "    <tr>\n",
       "      <th>12</th>\n",
       "      <td>hpc.usd.edu_b4bd47b0-6093-4166-8c02-c882bf6657af</td>\n",
       "      <td>hpc.usd.edu</td>\n",
       "    </tr>\n",
       "    <tr>\n",
       "      <th>13</th>\n",
       "      <td>schooner.oscer.ou.edu_d5a3bcef-93c9-44c0-acea-...</td>\n",
       "      <td>schooner.oscer.ou.edu</td>\n",
       "    </tr>\n",
       "    <tr>\n",
       "      <th>14</th>\n",
       "      <td>bridges.psc.edu_8e9bcd61-1f55-4926-a9b4-0cbe3d...</td>\n",
       "      <td>bridges.psc.edu</td>\n",
       "    </tr>\n",
       "    <tr>\n",
       "      <th>15</th>\n",
       "      <td>stampede.tacc.xsede.org_ea585ade-831f-4ad1-91c...</td>\n",
       "      <td>stampede.tacc.xsede.org</td>\n",
       "    </tr>\n",
       "    <tr>\n",
       "      <th>16</th>\n",
       "      <td>karst.uits.iu.edu_a9a65e7d-d104-4c11-829b-4121...</td>\n",
       "      <td>karst.uits.iu.edu</td>\n",
       "    </tr>\n",
       "    <tr>\n",
       "      <th>17</th>\n",
       "      <td>philip.hpc.lsu.edu_ae3007b2-93ea-4817-a7c1-2ed...</td>\n",
       "      <td>philip.hpc.lsu.edu</td>\n",
       "    </tr>\n",
       "    <tr>\n",
       "      <th>18</th>\n",
       "      <td>login-knl1.stampede.tacc.utexas.edu_5ea26511-1...</td>\n",
       "      <td>login-knl1.stampede.tacc.utexas.edu</td>\n",
       "    </tr>\n",
       "    <tr>\n",
       "      <th>19</th>\n",
       "      <td>js-156-20.jetstream-cloud.org_e9d76f84-2869-4d...</td>\n",
       "      <td>js-156-20.jetstream-cloud.org</td>\n",
       "    </tr>\n",
       "    <tr>\n",
       "      <th>20</th>\n",
       "      <td>bigred2.uits.iu.edu_ac140dca-3c88-46d8-b9ed-87...</td>\n",
       "      <td>bigred2.uits.iu.edu</td>\n",
       "    </tr>\n",
       "    <tr>\n",
       "      <th>21</th>\n",
       "      <td>kingspeak_0c37628f-ed16-414c-82a5-25d0fc031f8d</td>\n",
       "      <td>kingspeak.chpc.utah.edu</td>\n",
       "    </tr>\n",
       "    <tr>\n",
       "      <th>22</th>\n",
       "      <td>alamo.uthscsa.edu_5612cc49-e6ba-4e53-bb9a-7741...</td>\n",
       "      <td>alamo.uthscsa.edu</td>\n",
       "    </tr>\n",
       "    <tr>\n",
       "      <th>23</th>\n",
       "      <td>comet.sdsc.edu_91b900df-0ee0-4909-89b3-98e8f64...</td>\n",
       "      <td>comet.sdsc.edu</td>\n",
       "    </tr>\n",
       "    <tr>\n",
       "      <th>24</th>\n",
       "      <td>login-ld.research.siu.edu_7e01b6fe-3e16-430c-9...</td>\n",
       "      <td>login-ld.research.siu.edu</td>\n",
       "    </tr>\n",
       "    <tr>\n",
       "      <th>25</th>\n",
       "      <td>lonestar.tacc.utexas.edu_0d2d81a2-af4f-48c3-8b...</td>\n",
       "      <td>lonestar.tacc.utexas.edu</td>\n",
       "    </tr>\n",
       "  </tbody>\n",
       "</table>\n",
       "</div>"
      ],
      "text/plain": [
       "                                                   Id  \\\n",
       "0   jetstream.chemcompute.org_d87012a7-afbd-4439-b...   \n",
       "1   series.usda.gov_46bd9f3e-ab96-463b-ab5e-4e7cc5...   \n",
       "2   smic.hpc.lsu.edu_6b72d6d8-533b-42f5-9a67-8a596...   \n",
       "3   ember.chpc.utah.edu_6fd6fb6f-4656-40d3-afa4-35...   \n",
       "4   mason.uits.iu.edu_4910ad55-317b-49c9-8cc1-032d...   \n",
       "5      JetStream_3fe9cc27-26f2-45a7-bccd-c6c07d70e881   \n",
       "6           test_511bb8bd-b2ef-423e-958e-7a0531226dbe   \n",
       "7    BlueWaterII_9db6f84b-a099-40db-8d51-0f81b716b4cd   \n",
       "8   tandy.oii.org_93580801-f1ae-4faa-a052-46a8e21a...   \n",
       "9   gordon.sdsc.edu_bb11b481-fe7e-44d4-95ba-d3ffcd...   \n",
       "10     TestKarst_ef43b68c-9fe6-419c-873e-f3efc63aeef7   \n",
       "11  hpclogin.gsu.edu_964e7e13-f278-4bf5-8482-c8f07...   \n",
       "12   hpc.usd.edu_b4bd47b0-6093-4166-8c02-c882bf6657af   \n",
       "13  schooner.oscer.ou.edu_d5a3bcef-93c9-44c0-acea-...   \n",
       "14  bridges.psc.edu_8e9bcd61-1f55-4926-a9b4-0cbe3d...   \n",
       "15  stampede.tacc.xsede.org_ea585ade-831f-4ad1-91c...   \n",
       "16  karst.uits.iu.edu_a9a65e7d-d104-4c11-829b-4121...   \n",
       "17  philip.hpc.lsu.edu_ae3007b2-93ea-4817-a7c1-2ed...   \n",
       "18  login-knl1.stampede.tacc.utexas.edu_5ea26511-1...   \n",
       "19  js-156-20.jetstream-cloud.org_e9d76f84-2869-4d...   \n",
       "20  bigred2.uits.iu.edu_ac140dca-3c88-46d8-b9ed-87...   \n",
       "21     kingspeak_0c37628f-ed16-414c-82a5-25d0fc031f8d   \n",
       "22  alamo.uthscsa.edu_5612cc49-e6ba-4e53-bb9a-7741...   \n",
       "23  comet.sdsc.edu_91b900df-0ee0-4909-89b3-98e8f64...   \n",
       "24  login-ld.research.siu.edu_7e01b6fe-3e16-430c-9...   \n",
       "25  lonestar.tacc.utexas.edu_0d2d81a2-af4f-48c3-8b...   \n",
       "\n",
       "                                   Name  \n",
       "0             jetstream.chemcompute.org  \n",
       "1                       series.usda.gov  \n",
       "2                      smic.hpc.lsu.edu  \n",
       "3                   ember.chpc.utah.edu  \n",
       "4                     mason.uits.iu.edu  \n",
       "5        js-170-153.jetstream-cloud.org  \n",
       "6                                  test  \n",
       "7                           BlueWaterII  \n",
       "8           tcs.tandysupercomputing.org  \n",
       "9                       gordon.sdsc.edu  \n",
       "10                            TestKarst  \n",
       "11                     hpclogin.gsu.edu  \n",
       "12                          hpc.usd.edu  \n",
       "13                schooner.oscer.ou.edu  \n",
       "14                      bridges.psc.edu  \n",
       "15              stampede.tacc.xsede.org  \n",
       "16                    karst.uits.iu.edu  \n",
       "17                   philip.hpc.lsu.edu  \n",
       "18  login-knl1.stampede.tacc.utexas.edu  \n",
       "19        js-156-20.jetstream-cloud.org  \n",
       "20                  bigred2.uits.iu.edu  \n",
       "21              kingspeak.chpc.utah.edu  \n",
       "22                    alamo.uthscsa.edu  \n",
       "23                       comet.sdsc.edu  \n",
       "24            login-ld.research.siu.edu  \n",
       "25             lonestar.tacc.utexas.edu  "
      ]
     },
     "execution_count": 5,
     "metadata": {},
     "output_type": "execute_result"
    }
   ],
   "source": [
    "compute_resources = pd.DataFrame(list(airavata_cli.computer_resources().items()), columns=[\"Id\", \"Name\"])\n",
    "compute_resources"
   ]
  },
  {
   "cell_type": "markdown",
   "metadata": {
    "collapsed": true
   },
   "source": [
    "## Some other custom functions which can be created"
   ]
  },
  {
   "cell_type": "code",
   "execution_count": 6,
   "metadata": {
    "collapsed": false,
    "scrolled": false
   },
   "outputs": [
    {
     "data": {
      "text/plain": [
       "[ApplicationInterfaceDescription(applicationName='Echo', applicationInputs=[InputDataObjectType(userFriendlyDescription='', name='Input-to-Echo', dataStaged=False, value='', applicationArgument='', isRequired=True, standardInput=False, requiredToAddedToCommandLine=True, type=0, inputOrder=1, metaData='')], applicationInterfaceId='Echo_3f480d1f-ea86-4018-94bb-015423d66a1c', applicationDescription='Simple Echo Application Interface', applicationOutputs=[OutputDataObjectType(dataMovement=False, name='Echo-Standard-Error', value='', applicationArgument='', isRequired=True, searchQuery='', location='', requiredToAddedToCommandLine=False, outputStreaming=False, type=6), OutputDataObjectType(dataMovement=False, name='Echo-Standard-Out', value='', applicationArgument='', isRequired=True, searchQuery='', location='', requiredToAddedToCommandLine=False, outputStreaming=False, type=5)], applicationModules=['Amber-Sander_e8ce4375-aa60-4dd9-aff5-61bbe1f275c0', 'Echo_19dc358d-d241-43d8-918c-f5a21a3b0845']),\n",
       " ApplicationInterfaceDescription(applicationName='Amber_Sander', applicationInputs=[InputDataObjectType(userFriendlyDescription='Heating up the system equilibration stage - 02_Heat.rst', name='Heat-Restart-File', dataStaged=False, value='', applicationArgument='-c', isRequired=True, standardInput=False, requiredToAddedToCommandLine=True, type=3, inputOrder=1, metaData=''), InputDataObjectType(userFriendlyDescription='Parameter and Topology coordinates - prmtop', name='Parameter-Topology-File', dataStaged=False, value='', applicationArgument='-p', isRequired=True, standardInput=False, requiredToAddedToCommandLine=True, type=3, inputOrder=3, metaData=''), InputDataObjectType(userFriendlyDescription='Constant pressure and temperature for production stage - 03_Prod.in', name='Production-Control-File', dataStaged=False, value='', applicationArgument='-i', isRequired=True, standardInput=False, requiredToAddedToCommandLine=True, type=3, inputOrder=2, metaData='')], applicationInterfaceId='Amber_Sander_27b68571-b9c0-4bd5-bd70-e29435fa81bd', applicationDescription='Assisted Model Building with Energy Refinement MD Package', applicationOutputs=[OutputDataObjectType(dataMovement=False, name='Amber-Execution-Log', value='03_Prod.out', applicationArgument='-o', isRequired=True, searchQuery='', location='', requiredToAddedToCommandLine=True, outputStreaming=False, type=3), OutputDataObjectType(dataMovement=False, name='Amber-Execution-Summary', value='03_Prod.info', applicationArgument='-inf', isRequired=True, searchQuery='', location='', requiredToAddedToCommandLine=True, outputStreaming=False, type=3), OutputDataObjectType(dataMovement=False, name='Amber-Restart-File', value='03_Prod.rst', applicationArgument='-r', isRequired=True, searchQuery='', location='', requiredToAddedToCommandLine=True, outputStreaming=False, type=3), OutputDataObjectType(dataMovement=False, name='Amber-Standard-Error', value='', applicationArgument='', isRequired=True, searchQuery='', location='', requiredToAddedToCommandLine=False, outputStreaming=False, type=6), OutputDataObjectType(dataMovement=False, name='Amber-Standard-Out', value='', applicationArgument='', isRequired=True, searchQuery='', location='', requiredToAddedToCommandLine=False, outputStreaming=False, type=5), OutputDataObjectType(dataMovement=False, name='Amber-Trajectory-File', value='03_Prod.mdcrd', applicationArgument='-x', isRequired=True, searchQuery='', location='', requiredToAddedToCommandLine=True, outputStreaming=False, type=3)], applicationModules=['Amber-Sander_e8ce4375-aa60-4dd9-aff5-61bbe1f275c0']),\n",
       " ApplicationInterfaceDescription(applicationName='Gaussian', applicationInputs=[InputDataObjectType(userFriendlyDescription='Gaussian input file specifying desired calculation type, model chemistry, molecular system and other parameters.', name='Input-File', dataStaged=False, value='gaussian.com', applicationArgument='', isRequired=True, standardInput=False, requiredToAddedToCommandLine=True, type=3, inputOrder=1, metaData='')], applicationInterfaceId='Gaussian_4e76aecd-d504-4ce2-9ccf-da9550159e7c', applicationDescription='Gaussian provides capabilities for electronic structure modeling.', applicationOutputs=[OutputDataObjectType(dataMovement=True, name='Gaussian-Application-Output', value='gaussian.log', applicationArgument='', isRequired=True, searchQuery='', location='', requiredToAddedToCommandLine=True, outputStreaming=False, type=3), OutputDataObjectType(dataMovement=True, name='Gaussian-Checkpoint-File', value='*.chk', applicationArgument='', isRequired=False, searchQuery='', location='', requiredToAddedToCommandLine=False, outputStreaming=False, type=3), OutputDataObjectType(dataMovement=False, name='Gaussian-Standard-Error', value='', applicationArgument='', isRequired=True, searchQuery='', location='', requiredToAddedToCommandLine=False, outputStreaming=False, type=6), OutputDataObjectType(dataMovement=False, name='Gaussian-Standard-Out', value='', applicationArgument='', isRequired=True, searchQuery='', location='', requiredToAddedToCommandLine=False, outputStreaming=False, type=5)], applicationModules=['Gaussian_57eb2905-1cd8-400e-ad40-cadfba8f434f']),\n",
       " ApplicationInterfaceDescription(applicationName='AutoDock', applicationInputs=[InputDataObjectType(userFriendlyDescription='hsg1.maps.fld', name='HSG1-Maps-FLD', dataStaged=False, value='', applicationArgument='', isRequired=True, standardInput=False, requiredToAddedToCommandLine=False, type=3, inputOrder=3, metaData=''), InputDataObjectType(userFriendlyDescription='AD4_parameters.dat', name='Input-File-DAT', dataStaged=False, value='', applicationArgument='', isRequired=True, standardInput=False, requiredToAddedToCommandLine=False, type=3, inputOrder=2, metaData=''), InputDataObjectType(userFriendlyDescription='ind.dpf', name='Input-File-DPF', dataStaged=False, value='', applicationArgument='', isRequired=True, standardInput=False, requiredToAddedToCommandLine=True, type=3, inputOrder=1, metaData='')], applicationInterfaceId='AutoDock_a43d41f6-febf-4172-963c-4b67b8452180', applicationDescription='AutoDock suite of automated docking tools', applicationOutputs=[OutputDataObjectType(dataMovement=False, name='AutoDock-Standard-Error', value='', applicationArgument='', isRequired=True, searchQuery='', location='', requiredToAddedToCommandLine=False, outputStreaming=False, type=6), OutputDataObjectType(dataMovement=False, name='AutoDock-Standard-Out', value='', applicationArgument='', isRequired=True, searchQuery='', location='', requiredToAddedToCommandLine=False, outputStreaming=False, type=5)], applicationModules=['AutoDock_24d6d7da-1160-45b0-9958-63bcc9044804']),\n",
       " ApplicationInterfaceDescription(applicationName='Gromacs', applicationInputs=[InputDataObjectType(userFriendlyDescription='Trajectory Coordinates Molecular Structure in Gromos87 format - pdb1y6l-EM-vacuum.gro', name='Coordinate-File', dataStaged=False, value='', applicationArgument='-c', isRequired=True, standardInput=False, requiredToAddedToCommandLine=True, type=3, inputOrder=2, metaData=''), InputDataObjectType(userFriendlyDescription='Coordinates velocities, molecular topology and simulation parameters - pdb1y6l-EM-vacuum.tpr\\r\\n-v -deffnm', name='Portable-Input-Binary-File', dataStaged=False, value='', applicationArgument='-s', isRequired=True, standardInput=False, requiredToAddedToCommandLine=True, type=3, inputOrder=1, metaData='')], applicationInterfaceId='GROMACS_f0773c7e-9d89-4ad4-aa76-c3aefa2ebe78', applicationDescription='GROMACS Molecular Dynamics Package', applicationOutputs=[OutputDataObjectType(dataMovement=False, name='Gromacs-Execution-Log', value='pdb1y6l-EM-vacuum.tpr.log', applicationArgument='-g', isRequired=True, searchQuery='', location='', requiredToAddedToCommandLine=True, outputStreaming=False, type=3), OutputDataObjectType(dataMovement=False, name='Gromacs-Portable-Energy-File', value='pdb1y6l-EM-vacuum.tpr.edr', applicationArgument='-e', isRequired=True, searchQuery='', location='', requiredToAddedToCommandLine=True, outputStreaming=False, type=3), OutputDataObjectType(dataMovement=False, name='Gromacs-Standard-Error', value='', applicationArgument='', isRequired=True, searchQuery='', location='', requiredToAddedToCommandLine=True, outputStreaming=False, type=6), OutputDataObjectType(dataMovement=False, name='Gromacs-Standard-Out', value='', applicationArgument='', isRequired=True, searchQuery='', location='', requiredToAddedToCommandLine=True, outputStreaming=False, type=5)], applicationModules=['Gromacs_17f97a2e-bdea-4075-9425-6bde4a8d1317']),\n",
       " ApplicationInterfaceDescription(applicationName='Lammps_BR2', applicationInputs=[InputDataObjectType(userFriendlyDescription='Friction Simulation Input - in.friction', name='Friction-Simulation-Input', dataStaged=False, value='', applicationArgument='-cuda off -suffix gpu <', isRequired=True, standardInput=False, requiredToAddedToCommandLine=True, type=3, inputOrder=1, metaData='')], applicationInterfaceId='Lammps_BR2_965cdc59-f6c8-4146-ad27-e26a53b75c12', applicationDescription='Large-scale Atomic/Molecular Massively Parallel Simulator', applicationOutputs=[OutputDataObjectType(dataMovement=False, name='Lammps-Application-Output', value='log.lammps', applicationArgument='>', isRequired=True, searchQuery='', location='', requiredToAddedToCommandLine=True, outputStreaming=False, type=3), OutputDataObjectType(dataMovement=False, name='Lammps-Standard-Error', value='', applicationArgument='', isRequired=True, searchQuery='', location='', requiredToAddedToCommandLine=False, outputStreaming=False, type=6), OutputDataObjectType(dataMovement=False, name='Lammps-Standard-Out', value='', applicationArgument='', isRequired=True, searchQuery='', location='', requiredToAddedToCommandLine=False, outputStreaming=False, type=5)], applicationModules=['Lammps_1f150b05-6295-43c5-8040-27992693cef6']),\n",
       " ApplicationInterfaceDescription(applicationName='NWChem', applicationInputs=[InputDataObjectType(userFriendlyDescription='', name='Water-Molecule-Input', dataStaged=False, value='', applicationArgument='', isRequired=True, standardInput=False, requiredToAddedToCommandLine=True, type=3, inputOrder=1, metaData='')], applicationInterfaceId='NWChem_461f6aae-5bab-43cf-8db9-02f472054bad', applicationDescription='Ab initio computational chemistry software package', applicationOutputs=[OutputDataObjectType(dataMovement=False, name='NWChem-Standard-Error', value='', applicationArgument='', isRequired=True, searchQuery='', location='', requiredToAddedToCommandLine=False, outputStreaming=False, type=6), OutputDataObjectType(dataMovement=False, name='NWChem-Standard-Out', value='', applicationArgument='', isRequired=True, searchQuery='', location='', requiredToAddedToCommandLine=False, outputStreaming=False, type=5)], applicationModules=['NWChem_2f38a95e-c2aa-4db3-b1bf-2adb006a34bc']),\n",
       " ApplicationInterfaceDescription(applicationName='Gamess_BR2', applicationInputs=[InputDataObjectType(userFriendlyDescription='', name='Input-File', dataStaged=False, value='', applicationArgument='', isRequired=True, standardInput=False, requiredToAddedToCommandLine=True, type=3, inputOrder=1, metaData=''), InputDataObjectType(userFriendlyDescription='', name='PPN', dataStaged=False, value='16', applicationArgument='', isRequired=True, standardInput=False, requiredToAddedToCommandLine=True, type=0, inputOrder=4, metaData=''), InputDataObjectType(userFriendlyDescription='', name='Processes-Per-Job', dataStaged=False, value='16', applicationArgument='', isRequired=True, standardInput=False, requiredToAddedToCommandLine=True, type=0, inputOrder=3, metaData=''), InputDataObjectType(userFriendlyDescription='', name='Version', dataStaged=False, value='01', applicationArgument='', isRequired=True, standardInput=False, requiredToAddedToCommandLine=True, type=0, inputOrder=2, metaData='')], applicationInterfaceId='Gamess_BR2_55f48919-c067-4c72-9a83-3d02325857a7', applicationDescription='Gamess Application in BigRedII', applicationOutputs=[OutputDataObjectType(dataMovement=False, name='Gamess-Standard-out', value='', applicationArgument='', isRequired=True, searchQuery='', location='', requiredToAddedToCommandLine=False, outputStreaming=False, type=5), OutputDataObjectType(dataMovement=False, name='Gamess_Standard-Error', value='', applicationArgument='', isRequired=True, searchQuery='', location='', requiredToAddedToCommandLine=False, outputStreaming=False, type=6)], applicationModules=['Gamess_BR2_5c979001-d994-47fb-a9af-5227ff5c5c55']),\n",
       " ApplicationInterfaceDescription(applicationName='NEK5000', applicationInputs=[InputDataObjectType(userFriendlyDescription='', name='Basename', dataStaged=False, value='nek5kbasename', applicationArgument='', isRequired=True, standardInput=False, requiredToAddedToCommandLine=True, type=0, inputOrder=0, metaData=''), InputDataObjectType(userFriendlyDescription='.rea File', name='Runtime-Parameter-File', dataStaged=False, value='nek5kbasename.rea', applicationArgument='', isRequired=True, standardInput=False, requiredToAddedToCommandLine=False, type=3, inputOrder=2, metaData=''), InputDataObjectType(userFriendlyDescription='SIZE File', name='Size-for-Memory-Allocation', dataStaged=False, value='', applicationArgument='', isRequired=True, standardInput=False, requiredToAddedToCommandLine=False, type=3, inputOrder=3, metaData=''), InputDataObjectType(userFriendlyDescription='.usr File', name='User-Subroutine-File', dataStaged=False, value='nek5kbasename.usr', applicationArgument='', isRequired=True, standardInput=False, requiredToAddedToCommandLine=False, type=3, inputOrder=1, metaData='')], applicationInterfaceId='NEK5000_8759b170-f825-444a-a86c-7927c4133b7a', applicationDescription='', applicationOutputs=[OutputDataObjectType(dataMovement=False, name='NEK5000-Compilation-Output', value='compiler.out', applicationArgument='', isRequired=True, searchQuery='', location='', requiredToAddedToCommandLine=True, outputStreaming=False, type=3), OutputDataObjectType(dataMovement=False, name='NEK5000-Output_tarball', value='nek5kbasename.tgz', applicationArgument='', isRequired=True, searchQuery='', location='', requiredToAddedToCommandLine=False, outputStreaming=False, type=3), OutputDataObjectType(dataMovement=False, name='NEK5000-Session-Out', value='session.log', applicationArgument='>', isRequired=True, searchQuery='', location='', requiredToAddedToCommandLine=True, outputStreaming=False, type=3), OutputDataObjectType(dataMovement=False, name='NEK5000-Standard-Error', value='', applicationArgument='', isRequired=True, searchQuery='', location='', requiredToAddedToCommandLine=False, outputStreaming=False, type=6), OutputDataObjectType(dataMovement=False, name='NEK5000-Standard-Out', value='', applicationArgument='', isRequired=True, searchQuery='', location='', requiredToAddedToCommandLine=False, outputStreaming=False, type=5)], applicationModules=['NEK5000_35922b60-f0ad-41dd-8b3c-7877617767d8']),\n",
       " ApplicationInterfaceDescription(applicationName='Abinit', applicationInputs=[InputDataObjectType(userFriendlyDescription='', name='ModulePath', dataStaged=False, value='$MODULEPATH', applicationArgument='', isRequired=True, standardInput=False, requiredToAddedToCommandLine=False, type=0, inputOrder=4, metaData=''), InputDataObjectType(userFriendlyDescription='01h.pspgth', name='Pspgth-Input-File', dataStaged=False, value='', applicationArgument='', isRequired=True, standardInput=False, requiredToAddedToCommandLine=False, type=3, inputOrder=3, metaData=''), InputDataObjectType(userFriendlyDescription='tbase1_files.in', name='Tbase-Input-File-1', dataStaged=False, value='', applicationArgument='<', isRequired=True, standardInput=False, requiredToAddedToCommandLine=True, type=3, inputOrder=1, metaData=''), InputDataObjectType(userFriendlyDescription='tbase1_2.in', name='Tbase-Input-File-2', dataStaged=False, value='', applicationArgument='', isRequired=True, standardInput=False, requiredToAddedToCommandLine=False, type=3, inputOrder=2, metaData='')], applicationInterfaceId='Abinit_5d1f0755-c879-41b5-a3d0-9dc5672e33c7', applicationDescription='ABINIT is a package whose main program allows one to find the total energy, charge density and electronic structure of systems made of electrons and nuclei (molecules and periodic solids) within Density Functional Theory (DFT)', applicationOutputs=[OutputDataObjectType(dataMovement=False, name='Abinit-Standard-Error', value='', applicationArgument='', isRequired=True, searchQuery='', location='', requiredToAddedToCommandLine=False, outputStreaming=False, type=6), OutputDataObjectType(dataMovement=False, name='Abinit-Standard-Out', value='', applicationArgument='', isRequired=True, searchQuery='', location='', requiredToAddedToCommandLine=False, outputStreaming=False, type=5), OutputDataObjectType(dataMovement=False, name='Application-Out', value='tbase1_2.out', applicationArgument='', isRequired=True, searchQuery='', location='', requiredToAddedToCommandLine=False, outputStreaming=False, type=3)], applicationModules=['Abinit_34e497ac-28cd-42a2-afe0-1ee99f173c6d']),\n",
       " ApplicationInterfaceDescription(applicationName='Quantum_Espresso', applicationInputs=[InputDataObjectType(userFriendlyDescription='AI_Metal_Input_File - Al.sample.in', name='AI-Primitive-Cell', dataStaged=False, value='', applicationArgument='<', isRequired=True, standardInput=False, requiredToAddedToCommandLine=True, type=3, inputOrder=1, metaData=''), InputDataObjectType(userFriendlyDescription='Constant pressure and temperature for production stage - Al.pz-vbc.UPF', name='AI-Pseudopotential-File', dataStaged=False, value='', applicationArgument='', isRequired=True, standardInput=False, requiredToAddedToCommandLine=False, type=3, inputOrder=0, metaData='')], applicationInterfaceId='Quantum_Espresso_d83e7aac-9ccc-451b-b856-d92f5e7b7372', applicationDescription='Nanoscale electronic-structure calculations and materials modeling', applicationOutputs=[OutputDataObjectType(dataMovement=False, name='Quantum-Espresso-Execution-Log', value='Al.sample.out', applicationArgument='>', isRequired=True, searchQuery='', location='', requiredToAddedToCommandLine=True, outputStreaming=False, type=3), OutputDataObjectType(dataMovement=False, name='QuantumEspresso-Standard-Error', value='', applicationArgument='', isRequired=True, searchQuery='', location='', requiredToAddedToCommandLine=False, outputStreaming=False, type=6), OutputDataObjectType(dataMovement=False, name='QuantumEspresso-StandardOut', value='', applicationArgument='', isRequired=True, searchQuery='', location='', requiredToAddedToCommandLine=False, outputStreaming=False, type=5)], applicationModules=['Quantum_Espresso_cf47dccc-c870-4e76-be68-784a1574426e']),\n",
       " ApplicationInterfaceDescription(applicationName='Lammps', applicationInputs=[InputDataObjectType(userFriendlyDescription='', name='Friction-Simulation-Input', dataStaged=False, value='', applicationArgument='<', isRequired=True, standardInput=False, requiredToAddedToCommandLine=True, type=3, inputOrder=1, metaData='')], applicationInterfaceId='Lammps_1284f9d9-d039-47ec-a885-6792caa26510', applicationDescription='Large-scale Atomic/Molecular Massively Parallel Simulator', applicationOutputs=[OutputDataObjectType(dataMovement=False, name='Lammps-Application-Output', value='log.lammps', applicationArgument='>', isRequired=True, searchQuery='', location='', requiredToAddedToCommandLine=True, outputStreaming=False, type=3), OutputDataObjectType(dataMovement=False, name='Lammps-Standard-Error', value='', applicationArgument='', isRequired=True, searchQuery='', location='', requiredToAddedToCommandLine=False, outputStreaming=False, type=6), OutputDataObjectType(dataMovement=False, name='Lammps-Standard-Out', value='', applicationArgument='', isRequired=True, searchQuery='', location='', requiredToAddedToCommandLine=False, outputStreaming=False, type=5)], applicationModules=['Lammps_4e799726-669e-4b87-9a7d-9d567d83c1c7']),\n",
       " ApplicationInterfaceDescription(applicationName='CP2K', applicationInputs=[InputDataObjectType(userFriendlyDescription='Input file for CP2K - fayalite.inp', name='Input-File-INP', dataStaged=False, value='', applicationArgument='', isRequired=True, standardInput=False, requiredToAddedToCommandLine=True, type=3, inputOrder=1, metaData='')], applicationInterfaceId='CP2K_b53107d7-bda8-44a2-a724-fed43d056e4e', applicationDescription='CP2K Test Application Module', applicationOutputs=[OutputDataObjectType(dataMovement=False, name='CP2K-Application-Output', value='cp2k.out', applicationArgument='>&', isRequired=True, searchQuery='', location='', requiredToAddedToCommandLine=True, outputStreaming=False, type=3), OutputDataObjectType(dataMovement=False, name='CP2K-Standard-Error', value='', applicationArgument='', isRequired=True, searchQuery='', location='', requiredToAddedToCommandLine=False, outputStreaming=False, type=6), OutputDataObjectType(dataMovement=False, name='CP2K-Standard-Out', value='', applicationArgument='', isRequired=True, searchQuery='', location='', requiredToAddedToCommandLine=False, outputStreaming=False, type=5)], applicationModules=['CP2K_3d1895c9-03e1-4ba7-96b3-94bf2c88c865']),\n",
       " ApplicationInterfaceDescription(applicationName='Phasta_P', applicationInputs=[InputDataObjectType(userFriendlyDescription='Mesh Description - geom.sms', name='Mesh-Description-File', dataStaged=False, value='', applicationArgument='', isRequired=True, standardInput=False, requiredToAddedToCommandLine=False, type=3, inputOrder=3, metaData=''), InputDataObjectType(userFriendlyDescription='', name='Parasolid-Geometric-Model', dataStaged=False, value='', applicationArgument='', isRequired=True, standardInput=False, requiredToAddedToCommandLine=False, type=3, inputOrder=1, metaData=''), InputDataObjectType(userFriendlyDescription='problem definition - geom.smd', name='Problem-Definition', dataStaged=False, value='', applicationArgument='', isRequired=True, standardInput=False, requiredToAddedToCommandLine=False, type=3, inputOrder=2, metaData=''), InputDataObjectType(userFriendlyDescription='solver parameters solver.inp', name='Solver-Input-Parameters', dataStaged=False, value='', applicationArgument='', isRequired=True, standardInput=False, requiredToAddedToCommandLine=False, type=3, inputOrder=4, metaData='')], applicationInterfaceId='Phasta_P_f5398ee4-d6f0-4ada-8add-46747ea59449', applicationDescription='Parallel version of PHASTA', applicationOutputs=[OutputDataObjectType(dataMovement=False, name='Phasta-Output-TAR', value='PHASTA_Output.tar.gz', applicationArgument='', isRequired=True, searchQuery='', location='', requiredToAddedToCommandLine=False, outputStreaming=False, type=3), OutputDataObjectType(dataMovement=False, name='PhastaP-Standard-Error', value='', applicationArgument='', isRequired=True, searchQuery='', location='', requiredToAddedToCommandLine=False, outputStreaming=False, type=6), OutputDataObjectType(dataMovement=False, name='PhastaP-Standard-Out', value='', applicationArgument='', isRequired=True, searchQuery='', location='', requiredToAddedToCommandLine=False, outputStreaming=False, type=5)], applicationModules=['Phasta_P_681394ed-212a-404e-b336-e5d41593016f']),\n",
       " ApplicationInterfaceDescription(applicationName='Gamess', applicationInputs=[InputDataObjectType(userFriendlyDescription='Gamess Input file', name='Input-File', dataStaged=True, value='gamess.inp', applicationArgument='', isRequired=True, standardInput=False, requiredToAddedToCommandLine=True, type=3, inputOrder=1, metaData=''), InputDataObjectType(userFriendlyDescription='', name='PPN', dataStaged=False, value='4', applicationArgument='', isRequired=True, standardInput=False, requiredToAddedToCommandLine=True, type=0, inputOrder=3, metaData=''), InputDataObjectType(userFriendlyDescription='', name='Version', dataStaged=False, value='00', applicationArgument='', isRequired=True, standardInput=False, requiredToAddedToCommandLine=True, type=0, inputOrder=2, metaData='')], applicationInterfaceId='Gamess_43fd2803-f388-4b79-b131-ec52ac023b5b', applicationDescription='Gamess Application', applicationOutputs=[OutputDataObjectType(dataMovement=False, name='Gamess-Standard-Error', value='', applicationArgument='', isRequired=True, searchQuery='', location='', requiredToAddedToCommandLine=False, outputStreaming=False, type=6), OutputDataObjectType(dataMovement=False, name='Gamess-Standard-Out', value='', applicationArgument='', isRequired=True, searchQuery='', location='', requiredToAddedToCommandLine=False, outputStreaming=False, type=5)], applicationModules=['Gamess_6ed12ada-a6a7-4df5-b044-b9a5e2b0c49b']),\n",
       " ApplicationInterfaceDescription(applicationName='Tinker_Monte', applicationInputs=[InputDataObjectType(userFriendlyDescription='Tinker monte input_4', name='Ctc', dataStaged=False, value='C', applicationArgument='', isRequired=True, standardInput=False, requiredToAddedToCommandLine=True, type=0, inputOrder=4, metaData=''), InputDataObjectType(userFriendlyDescription='Tinker monte input_2', name='keyf', dataStaged=False, value='O16.key', applicationArgument='-k', isRequired=True, standardInput=False, requiredToAddedToCommandLine=True, type=3, inputOrder=2, metaData=''), InputDataObjectType(userFriendlyDescription='Tinker monte input_7', name='Rconv', dataStaged=False, value='0.01', applicationArgument='', isRequired=True, standardInput=False, requiredToAddedToCommandLine=True, type=2, inputOrder=7, metaData=''), InputDataObjectType(userFriendlyDescription='Tinker monte input_3', name='stps', dataStaged=False, value='20000', applicationArgument='', isRequired=True, standardInput=False, requiredToAddedToCommandLine=True, type=0, inputOrder=3, metaData=''), InputDataObjectType(userFriendlyDescription='Tinker monte input_5', name='stpsZ', dataStaged=False, value='3.0', applicationArgument='', isRequired=True, standardInput=False, requiredToAddedToCommandLine=True, type=0, inputOrder=5, metaData=''), InputDataObjectType(userFriendlyDescription='Tinker monte input_6', name='temp', dataStaged=False, value='298', applicationArgument='', isRequired=True, standardInput=False, requiredToAddedToCommandLine=True, type=0, inputOrder=6, metaData=''), InputDataObjectType(userFriendlyDescription='Tinker monte input_1', name='xyzf', dataStaged=False, value='O16.xyz', applicationArgument='', isRequired=True, standardInput=False, requiredToAddedToCommandLine=True, type=3, inputOrder=1, metaData='')], applicationInterfaceId='Tinker_monte_d80b010e-c22c-471d-a5d8-ac7c4dd2e429', applicationDescription='Grid Chem Tinker Monte Application', applicationOutputs=[OutputDataObjectType(dataMovement=False, name='TinkerMonte-Standard-Error', value='', applicationArgument='', isRequired=True, searchQuery='', location='', requiredToAddedToCommandLine=False, outputStreaming=False, type=6), OutputDataObjectType(dataMovement=False, name='TinkerMonte-Standard-Out', value='', applicationArgument='', isRequired=True, searchQuery='', location='', requiredToAddedToCommandLine=False, outputStreaming=False, type=5)], applicationModules=['Tinker_Monte_b11b893a-626b-4778-997a-2da92537b4b7']),\n",
       " ApplicationInterfaceDescription(applicationName='CPMD', applicationInputs=[InputDataObjectType(userFriendlyDescription='', name='INP-Input-File', dataStaged=False, value='', applicationArgument='', isRequired=True, standardInput=False, requiredToAddedToCommandLine=True, type=3, inputOrder=1, metaData=''), InputDataObjectType(userFriendlyDescription='Define PLIBRARY as a prejob command', name='PPLibrary', dataStaged=False, value='$PPLIBRARY', applicationArgument='', isRequired=True, standardInput=False, requiredToAddedToCommandLine=True, type=0, inputOrder=2, metaData='')], applicationInterfaceId='CPMD_3afef8de-1252-407b-b768-28f58ed41fa3', applicationDescription='parallelized plane wave / pseudopotential implementation of Density Functional Theory, particularly designed for ab-initio molecular dynamics.', applicationOutputs=[OutputDataObjectType(dataMovement=False, name='CPMD-Standard-Error', value='', applicationArgument='', isRequired=True, searchQuery='', location='', requiredToAddedToCommandLine=False, outputStreaming=False, type=6), OutputDataObjectType(dataMovement=False, name='CPMD-Standard-Out', value='', applicationArgument='', isRequired=True, searchQuery='', location='', requiredToAddedToCommandLine=False, outputStreaming=False, type=5), OutputDataObjectType(dataMovement=True, name='CPMD.Out', value='CPMD.out', applicationArgument='>', isRequired=True, searchQuery='', location='', requiredToAddedToCommandLine=True, outputStreaming=False, type=3), OutputDataObjectType(dataMovement=True, name='CPMD.restart', value='RESTART.1', applicationArgument='', isRequired=True, searchQuery='', location='', requiredToAddedToCommandLine=False, outputStreaming=False, type=3)], applicationModules=['CPMD_6870dafa-e2e3-4fe6-a0e2-5b11c1436af4']),\n",
       " ApplicationInterfaceDescription(applicationName='QChem', applicationInputs=[InputDataObjectType(userFriendlyDescription='', name='IN-Input-File', dataStaged=False, value='', applicationArgument='-nt 24', isRequired=True, standardInput=False, requiredToAddedToCommandLine=True, type=3, inputOrder=2, metaData='')], applicationInterfaceId='QChem_5e5a711f-18a3-459a-bfe2-c6fbf686b5b1', applicationDescription='Quantum Chemistry Application', applicationOutputs=[OutputDataObjectType(dataMovement=False, name='QChem-Standard-Error', value='', applicationArgument='', isRequired=True, searchQuery='', location='', requiredToAddedToCommandLine=False, outputStreaming=False, type=6), OutputDataObjectType(dataMovement=False, name='QChem-Standard-Out', value='', applicationArgument='', isRequired=True, searchQuery='', location='', requiredToAddedToCommandLine=False, outputStreaming=False, type=5), OutputDataObjectType(dataMovement=False, name='Qchem.Output', value='QChem.out', applicationArgument='>', isRequired=True, searchQuery='', location='', requiredToAddedToCommandLine=True, outputStreaming=False, type=3)], applicationModules=['QChem_9214bc96-2bf8-4ba2-b717-a1cd4dc98a4f']),\n",
       " ApplicationInterfaceDescription(applicationName='DDSCat', applicationInputs=[InputDataObjectType(userFriendlyDescription='', name='PAR-Input-File', dataStaged=False, value='', applicationArgument='', isRequired=True, standardInput=False, requiredToAddedToCommandLine=False, type=3, inputOrder=1, metaData=''), InputDataObjectType(userFriendlyDescription='', name='TAB-Input-File', dataStaged=False, value='', applicationArgument='', isRequired=True, standardInput=False, requiredToAddedToCommandLine=False, type=3, inputOrder=2, metaData='')], applicationInterfaceId='DDSCat_e6ab3de1-9d8c-4c89-878a-d8cb84b6619b', applicationDescription='Discrete Dipole Approximation Scattering (DDSCAT) code', applicationOutputs=[OutputDataObjectType(dataMovement=False, name='DDSCat-Standard-Error', value='', applicationArgument='', isRequired=True, searchQuery='', location='', requiredToAddedToCommandLine=False, outputStreaming=False, type=6), OutputDataObjectType(dataMovement=False, name='DDSCat-Standard-Out', value='', applicationArgument='', isRequired=True, searchQuery='', location='', requiredToAddedToCommandLine=False, outputStreaming=False, type=5), OutputDataObjectType(dataMovement=False, name='DDSCat.out', value='DDSCat.out', applicationArgument='', isRequired=True, searchQuery='', location='', requiredToAddedToCommandLine=False, outputStreaming=False, type=3)], applicationModules=['DDSCat_b01bf3eb-7e19-4ebe-bd18-32af7c81e5df']),\n",
       " ApplicationInterfaceDescription(applicationName='DFTB+', applicationInputs=[InputDataObjectType(userFriendlyDescription='', name='DFTB-Input', dataStaged=False, value='dftb_in.hsd', applicationArgument='', isRequired=True, standardInput=True, requiredToAddedToCommandLine=True, type=3, inputOrder=1, metaData='')], applicationInterfaceId='DFTB+_ac6c3ae2-8367-4433-b3bd-8146b9125c4a', applicationDescription='Semi empirical Quantum Chemistry', applicationOutputs=[OutputDataObjectType(dataMovement=False, name='DFTB-Standard-Error', value='', applicationArgument='', isRequired=True, searchQuery='', location='', requiredToAddedToCommandLine=False, outputStreaming=False, type=6), OutputDataObjectType(dataMovement=False, name='DFTB-Standard-Out', value='', applicationArgument='', isRequired=True, searchQuery='', location='', requiredToAddedToCommandLine=False, outputStreaming=False, type=5)], applicationModules=['DFTB+_9add4ce4-7f57-495a-bb1a-eff570b56441']),\n",
       " ApplicationInterfaceDescription(applicationName='WRF', applicationInputs=[InputDataObjectType(userFriendlyDescription='Namelist Configuration File - namelist.input', name='Configuration-Namelist-File', dataStaged=False, value='', applicationArgument='', isRequired=True, standardInput=False, requiredToAddedToCommandLine=True, type=3, inputOrder=1, metaData=''), InputDataObjectType(userFriendlyDescription='Boundary Conditions File - wrfbdy_d01', name='WRF-Boundary-File', dataStaged=False, value='', applicationArgument='', isRequired=True, standardInput=False, requiredToAddedToCommandLine=True, type=3, inputOrder=3, metaData=''), InputDataObjectType(userFriendlyDescription='Initial Conditions File - wrfinput_d01', name='WRF-Initial-Conditions', dataStaged=False, value='', applicationArgument='', isRequired=True, standardInput=False, requiredToAddedToCommandLine=True, type=3, inputOrder=2, metaData='')], applicationInterfaceId='WRF_b9c0e9df-8a39-4317-a689-36025a45ec20', applicationDescription='Weather Research and Focasting Application', applicationOutputs=[OutputDataObjectType(dataMovement=False, name='WRF-Standard-Error', value='', applicationArgument='', isRequired=True, searchQuery='', location='', requiredToAddedToCommandLine=False, outputStreaming=False, type=6), OutputDataObjectType(dataMovement=False, name='WRF-Standard-Out', value='', applicationArgument='', isRequired=True, searchQuery='', location='', requiredToAddedToCommandLine=False, outputStreaming=False, type=5), OutputDataObjectType(dataMovement=False, name='WRF_Application_Execution_Log', value='rsl.out.0000', applicationArgument='', isRequired=True, searchQuery='', location='', requiredToAddedToCommandLine=False, outputStreaming=False, type=3)], applicationModules=['WRF_17f339d1-92e3-4eb9-a72e-cb4961d685a9']),\n",
       " ApplicationInterfaceDescription(applicationName='Gamess_Stampede', applicationInputs=[InputDataObjectType(userFriendlyDescription='Gamess Input file', name='Input-File', dataStaged=False, value='', applicationArgument='', isRequired=True, standardInput=False, requiredToAddedToCommandLine=True, type=3, inputOrder=1, metaData=''), InputDataObjectType(userFriendlyDescription='', name='PPN', dataStaged=False, value='8', applicationArgument='', isRequired=True, standardInput=False, requiredToAddedToCommandLine=True, type=0, inputOrder=2, metaData='')], applicationInterfaceId='Gamess_Stampede_c892ddc8-9da3-4d2d-98da-b5ccbe937f4e', applicationDescription='Gamess Application on Stampede', applicationOutputs=[OutputDataObjectType(dataMovement=False, name='Gamess-Standard-Error', value='', applicationArgument='', isRequired=True, searchQuery='', location='', requiredToAddedToCommandLine=False, outputStreaming=False, type=6), OutputDataObjectType(dataMovement=False, name='Gamess-Standard-Out', value='', applicationArgument='', isRequired=True, searchQuery='', location='', requiredToAddedToCommandLine=False, outputStreaming=False, type=5)], applicationModules=['Gamess_Stampede_1eb6c1f7-9292-456d-b1c3-1b88c3936b68']),\n",
       " ApplicationInterfaceDescription(applicationName='Molcas', applicationInputs=[InputDataObjectType(userFriendlyDescription='', name='Molcas-Input', dataStaged=False, value='', applicationArgument='', isRequired=True, standardInput=True, requiredToAddedToCommandLine=True, type=3, inputOrder=1, metaData='')], applicationInterfaceId='Molcas_1b42f617-a3eb-4d38-b9ad-986fc57a36ed', applicationDescription='Computational Chemistry QM', applicationOutputs=[OutputDataObjectType(dataMovement=True, name='Molcas-Standard-Error', value='', applicationArgument='', isRequired=True, searchQuery='', location='', requiredToAddedToCommandLine=False, outputStreaming=False, type=6), OutputDataObjectType(dataMovement=True, name='Molcas-Standard-Out', value='', applicationArgument='', isRequired=True, searchQuery='', location='', requiredToAddedToCommandLine=False, outputStreaming=False, type=5)], applicationModules=['Molcas_f7dd5a10-0f8d-43b0-9c88-ec1a648dd037']),\n",
       " ApplicationInterfaceDescription(applicationName='Abaqus', applicationInputs=[InputDataObjectType(userFriendlyDescription='Main input files for the application', name='Abacus-INP-File', dataStaged=False, value='', applicationArgument='-input', isRequired=True, standardInput=False, requiredToAddedToCommandLine=True, type=3, inputOrder=1, metaData=''), InputDataObjectType(userFriendlyDescription='String for job canonical name', name='ABQ_JOB', dataStaged=False, value='$abq_job', applicationArgument='-job', isRequired=True, standardInput=False, requiredToAddedToCommandLine=True, type=0, inputOrder=2, metaData=''), InputDataObjectType(userFriendlyDescription='cpus for the job', name='CPUs', dataStaged=False, value='24', applicationArgument='-cpus', isRequired=True, standardInput=False, requiredToAddedToCommandLine=True, type=0, inputOrder=4, metaData=''), InputDataObjectType(userFriendlyDescription='--datafile_file or --datafile2_file2.tar', name='Datach', dataStaged=False, value='', applicationArgument='', isRequired=True, standardInput=False, requiredToAddedToCommandLine=False, type=0, inputOrder=10, metaData=''), InputDataObjectType(userFriendlyDescription='-double (precision)', name='Double', dataStaged=False, value='double', applicationArgument='', isRequired=True, standardInput=False, requiredToAddedToCommandLine=True, type=0, inputOrder=11, metaData=''), InputDataObjectType(userFriendlyDescription='', name='Interactive', dataStaged=False, value='interactive', applicationArgument='', isRequired=True, standardInput=False, requiredToAddedToCommandLine=True, type=0, inputOrder=7, metaData=''), InputDataObjectType(userFriendlyDescription='availabl memory % for the job on the node', name='Memory', dataStaged=False, value='80%', applicationArgument='-mem', isRequired=True, standardInput=False, requiredToAddedToCommandLine=True, type=0, inputOrder=5, metaData=''), InputDataObjectType(userFriendlyDescription='mp_mode = parallalism type', name='MP_MODE', dataStaged=False, value='threads', applicationArgument='-mp_mode', isRequired=True, standardInput=False, requiredToAddedToCommandLine=True, type=0, inputOrder=6, metaData=''), InputDataObjectType(userFriendlyDescription='oldjob=restart_file_stem (a path?!)', name='Restart_Option', dataStaged=False, value='', applicationArgument='', isRequired=True, standardInput=False, requiredToAddedToCommandLine=False, type=0, inputOrder=9, metaData=''), InputDataObjectType(userFriendlyDescription='scratch directory definition', name='Scratch', dataStaged=False, value='$PWD', applicationArgument='-scratch', isRequired=True, standardInput=False, requiredToAddedToCommandLine=True, type=0, inputOrder=3, metaData=''), InputDataObjectType(userFriendlyDescription='--user_sub file argument -a -n $lib for libraries', name='User_Sub_Option', dataStaged=False, value='', applicationArgument='', isRequired=True, standardInput=False, requiredToAddedToCommandLine=False, type=0, inputOrder=8, metaData='')], applicationInterfaceId='Abaqus_cfdf8945-e173-4265-b15a-ec6ae4ccedfa', applicationDescription='Finite Element Analysis, Enginnering', applicationOutputs=[OutputDataObjectType(dataMovement=False, name='Abaqus-Standard-Error', value='', applicationArgument='', isRequired=True, searchQuery='', location='', requiredToAddedToCommandLine=False, outputStreaming=False, type=6), OutputDataObjectType(dataMovement=False, name='Abaqus-Standard-Out', value='', applicationArgument='', isRequired=True, searchQuery='', location='', requiredToAddedToCommandLine=False, outputStreaming=False, type=5)], applicationModules=['Abaqus_96a88449-b4cd-4a39-8ad2-26abfbdd4b3e']),\n",
       " ApplicationInterfaceDescription(applicationName='Vina_Multiple', applicationInputs=[InputDataObjectType(userFriendlyDescription='config\\r\\nShould not contain ligand description', name='Config-File', dataStaged=False, value='conf.txt', applicationArgument='', isRequired=True, standardInput=False, requiredToAddedToCommandLine=False, type=3, inputOrder=3, metaData=''), InputDataObjectType(userFriendlyDescription='ligands.zip', name='Multi-Ligand-Zip-File', dataStaged=False, value='ligands.zip', applicationArgument='', isRequired=True, standardInput=False, requiredToAddedToCommandLine=False, type=3, inputOrder=2, metaData=''), InputDataObjectType(userFriendlyDescription='receptor.pdbqt', name='Receptor-File', dataStaged=False, value='', applicationArgument='', isRequired=True, standardInput=False, requiredToAddedToCommandLine=False, type=3, inputOrder=1, metaData='')], applicationInterfaceId='Vina_Multiple_53fc0aaa-20d4-4c80-8797-0a4bcc20bc61', applicationDescription='Autodock Vina with multiple ligands', applicationOutputs=[OutputDataObjectType(dataMovement=False, name='AutoDock-Vina-Standard-Error', value='', applicationArgument='', isRequired=True, searchQuery='', location='', requiredToAddedToCommandLine=False, outputStreaming=False, type=6), OutputDataObjectType(dataMovement=False, name='AutoDock-Vina-Standard-out', value='', applicationArgument='', isRequired=True, searchQuery='', location='', requiredToAddedToCommandLine=False, outputStreaming=False, type=5)], applicationModules=['Vina_Multiple_d0292a2f-6555-4364-b3be-d84b47ceeced']),\n",
       " ApplicationInterfaceDescription(applicationName='AutoDock_Vina', applicationInputs=[InputDataObjectType(userFriendlyDescription='config', name='Config-File', dataStaged=False, value='', applicationArgument='--config', isRequired=True, standardInput=False, requiredToAddedToCommandLine=True, type=3, inputOrder=3, metaData=''), InputDataObjectType(userFriendlyDescription='ligand1.pdbqt', name='Ligand-File', dataStaged=False, value='', applicationArgument='', isRequired=True, standardInput=False, requiredToAddedToCommandLine=False, type=3, inputOrder=2, metaData=''), InputDataObjectType(userFriendlyDescription='receptor.pdbqt', name='Receptor-File', dataStaged=False, value='', applicationArgument='', isRequired=True, standardInput=False, requiredToAddedToCommandLine=False, type=3, inputOrder=1, metaData='')], applicationInterfaceId='AutoDock_Vina_c9436341-aa2e-4ccd-8ac0-1db3e176f962', applicationDescription='', applicationOutputs=[OutputDataObjectType(dataMovement=False, name='AutoDock-Vina-Standard-Error', value='', applicationArgument='', isRequired=True, searchQuery='', location='', requiredToAddedToCommandLine=False, outputStreaming=False, type=6), OutputDataObjectType(dataMovement=False, name='AutoDock-Vina-Standard-out', value='', applicationArgument='', isRequired=True, searchQuery='', location='', requiredToAddedToCommandLine=False, outputStreaming=False, type=5)], applicationModules=['AutoDock_Vina_2bf91893-d75b-4478-9039-1aed216b5866']),\n",
       " ApplicationInterfaceDescription(applicationName='PSI4.0', applicationInputs=[InputDataObjectType(userFriendlyDescription='', name='Psi-Input-File', dataStaged=False, value='input.dat', applicationArgument='', isRequired=True, standardInput=False, requiredToAddedToCommandLine=False, type=3, inputOrder=1, metaData='')], applicationInterfaceId='PSI4.0_440faf02-3db3-4537-b66b-0465099e0f7e', applicationDescription='Psi4 is an ab initio quantum chemistry programs designed for efficient, high-accuracy simulations of a variety of molecular properties.', applicationOutputs=[OutputDataObjectType(dataMovement=False, name='Psi-Output', value='output.dat', applicationArgument='', isRequired=True, searchQuery='', location='', requiredToAddedToCommandLine=False, outputStreaming=False, type=3), OutputDataObjectType(dataMovement=False, name='PSI4.0-Standard-Error', value='', applicationArgument='', isRequired=True, searchQuery='', location='', requiredToAddedToCommandLine=False, outputStreaming=False, type=6), OutputDataObjectType(dataMovement=False, name='PSI4.0-Standard-Out', value='', applicationArgument='', isRequired=True, searchQuery='', location='', requiredToAddedToCommandLine=False, outputStreaming=False, type=5)], applicationModules=['PSI4.0_80cfebe1-fef8-49c3-a8eb-00b735bd817f']),\n",
       " ApplicationInterfaceDescription(applicationName='Abaqus-6.13-3', applicationInputs=[InputDataObjectType(userFriendlyDescription='Main input files for the application', name='Abacus-INP-File', dataStaged=False, value='', applicationArgument='-input', isRequired=True, standardInput=False, requiredToAddedToCommandLine=True, type=3, inputOrder=1, metaData=''), InputDataObjectType(userFriendlyDescription='String for job canonical name', name='ABQ_JOB', dataStaged=False, value='$abq_job', applicationArgument='-job', isRequired=True, standardInput=False, requiredToAddedToCommandLine=True, type=0, inputOrder=2, metaData=''), InputDataObjectType(userFriendlyDescription='cpus for the job', name='CPUs', dataStaged=False, value='24', applicationArgument='-cpus', isRequired=True, standardInput=False, requiredToAddedToCommandLine=True, type=0, inputOrder=4, metaData=''), InputDataObjectType(userFriendlyDescription='--datafile_file or --datafile2_file2.tar', name='Datach', dataStaged=False, value='', applicationArgument='', isRequired=True, standardInput=False, requiredToAddedToCommandLine=False, type=0, inputOrder=10, metaData=''), InputDataObjectType(userFriendlyDescription='-double (precision)', name='Double', dataStaged=False, value='double', applicationArgument='', isRequired=True, standardInput=False, requiredToAddedToCommandLine=True, type=0, inputOrder=11, metaData=''), InputDataObjectType(userFriendlyDescription='', name='Interactive', dataStaged=False, value='interactive', applicationArgument='', isRequired=True, standardInput=False, requiredToAddedToCommandLine=True, type=0, inputOrder=7, metaData=''), InputDataObjectType(userFriendlyDescription='availabl memory % for the job on the node', name='Memory', dataStaged=False, value='80%', applicationArgument='-mem', isRequired=True, standardInput=False, requiredToAddedToCommandLine=True, type=0, inputOrder=5, metaData=''), InputDataObjectType(userFriendlyDescription='mp_mode = parallalism type', name='MP_MODE', dataStaged=False, value='threads', applicationArgument='-mp_mode', isRequired=True, standardInput=False, requiredToAddedToCommandLine=True, type=0, inputOrder=6, metaData=''), InputDataObjectType(userFriendlyDescription='oldjob=restart_file_stem (a path?!)', name='Restart_Option', dataStaged=False, value='', applicationArgument='', isRequired=True, standardInput=False, requiredToAddedToCommandLine=False, type=0, inputOrder=9, metaData=''), InputDataObjectType(userFriendlyDescription='scratch directory definition', name='Scratch', dataStaged=False, value='$PWD', applicationArgument='-scratch', isRequired=True, standardInput=False, requiredToAddedToCommandLine=True, type=0, inputOrder=3, metaData=''), InputDataObjectType(userFriendlyDescription='--user_sub file argument -a -n $lib for libraries', name='User_Sub_Option', dataStaged=False, value='', applicationArgument='', isRequired=True, standardInput=False, requiredToAddedToCommandLine=False, type=0, inputOrder=8, metaData='')], applicationInterfaceId='Abaqus-6.13-3_43054f54-87e5-493b-8788-899028534465', applicationDescription='Finite Element Analysis, Enginnering', applicationOutputs=[OutputDataObjectType(dataMovement=False, name='Abaqus-Standard-Error', value='', applicationArgument='', isRequired=True, searchQuery='', location='', requiredToAddedToCommandLine=False, outputStreaming=False, type=6), OutputDataObjectType(dataMovement=False, name='Abaqus-Standard-Out', value='', applicationArgument='', isRequired=True, searchQuery='', location='', requiredToAddedToCommandLine=False, outputStreaming=False, type=5)], applicationModules=['Abaqus-6.13-3_be287dc9-4347-4fba-a308-465010e5f7d0']),\n",
       " ApplicationInterfaceDescription(applicationName='Echo-Marcus', applicationInputs=[InputDataObjectType(userFriendlyDescription='', name='Input to Echo', dataStaged=False, value='', applicationArgument='', isRequired=True, standardInput=False, requiredToAddedToCommandLine=True, type=0, inputOrder=1, metaData='')], applicationInterfaceId='Echo-Marcus_c12b0256-8033-4a2b-938c-7bcadb2e87e3', applicationDescription='Simple Echo Application Interface', applicationOutputs=[OutputDataObjectType(dataMovement=False, name='Echo-Standard-Error', value='', applicationArgument='', isRequired=True, searchQuery='', location='', requiredToAddedToCommandLine=False, outputStreaming=False, type=6), OutputDataObjectType(dataMovement=False, name='Echo-Standard-Out', value='', applicationArgument='', isRequired=True, searchQuery='', location='', requiredToAddedToCommandLine=False, outputStreaming=False, type=5)], applicationModules=['Echo_19dc358d-d241-43d8-918c-f5a21a3b0845']),\n",
       " ApplicationInterfaceDescription(applicationName='Trinity', applicationInputs=[InputDataObjectType(userFriendlyDescription='', name='CPU', dataStaged=False, value='4', applicationArgument='--cpu', isRequired=True, standardInput=False, requiredToAddedToCommandLine=True, type=1, inputOrder=6, metaData=''), InputDataObjectType(userFriendlyDescription='', name='Max-Heapspace', dataStaged=False, value='2G', applicationArgument='--bflyHeapSpaceMax', isRequired=True, standardInput=False, requiredToAddedToCommandLine=True, type=0, inputOrder=7, metaData=''), InputDataObjectType(userFriendlyDescription='', name='Max_Memory', dataStaged=False, value='4G', applicationArgument='--max_memory', isRequired=True, standardInput=False, requiredToAddedToCommandLine=True, type=0, inputOrder=2, metaData=''), InputDataObjectType(userFriendlyDescription='', name='Rna-Seq-Right-Input', dataStaged=False, value='', applicationArgument='--right', isRequired=True, standardInput=False, requiredToAddedToCommandLine=True, type=3, inputOrder=4, metaData=''), InputDataObjectType(userFriendlyDescription='', name='Rna-Seq_Left_Input', dataStaged=False, value='', applicationArgument='--left', isRequired=True, standardInput=False, requiredToAddedToCommandLine=True, type=3, inputOrder=3, metaData=''), InputDataObjectType(userFriendlyDescription='', name='Seq_type', dataStaged=False, value='fq', applicationArgument='--seqType', isRequired=True, standardInput=False, requiredToAddedToCommandLine=True, type=0, inputOrder=1, metaData=''), InputDataObjectType(userFriendlyDescription='', name='SS-Lib_Type', dataStaged=False, value='RF', applicationArgument='--SS_lib_typ', isRequired=True, standardInput=False, requiredToAddedToCommandLine=True, type=0, inputOrder=5, metaData='')], applicationInterfaceId='Trinity_82ec9f8d-790f-4909-9ad1-e010632736f9', applicationDescription='De novo reconstruction of transcriptomes from RNA-seq data', applicationOutputs=[OutputDataObjectType(dataMovement=False, name='Trinity_Execution-Log', value='trinity.timing', applicationArgument='--output ./trinity_out_dir', isRequired=True, searchQuery='', location='', requiredToAddedToCommandLine=False, outputStreaming=False, type=3), OutputDataObjectType(dataMovement=False, name='Trinity_FASTA_File', value='Trinity.fasta', applicationArgument='', isRequired=True, searchQuery='', location='', requiredToAddedToCommandLine=False, outputStreaming=False, type=3), OutputDataObjectType(dataMovement=True, name='Trinity_Standard-Error', value='Trinity_stderror', applicationArgument='', isRequired=True, searchQuery='', location='', requiredToAddedToCommandLine=False, outputStreaming=False, type=0), OutputDataObjectType(dataMovement=True, name='Trinity_Stdout', value='Trinity_stdout', applicationArgument='', isRequired=True, searchQuery='', location='', requiredToAddedToCommandLine=False, outputStreaming=False, type=0)], applicationModules=['Trinity_b32b104d-501e-42f6-a35a-18540190cf2e']),\n",
       " ApplicationInterfaceDescription(applicationName='Gaussian16', applicationInputs=[InputDataObjectType(userFriendlyDescription='Gaussian input file specifying desired calculation type, model chemistry, molecular system and other parameters.', name='Input-File', dataStaged=False, value='', applicationArgument='', isRequired=True, standardInput=False, requiredToAddedToCommandLine=True, type=3, inputOrder=1, metaData='')], applicationInterfaceId='Gaussian16_8e065560-9b1e-443c-b59c-e919b677039d', applicationDescription='Gaussian provides capabilities for electronic structure modeling.', applicationOutputs=[OutputDataObjectType(dataMovement=True, name='Gaussian-Application-Output', value='gaussian.log', applicationArgument='', isRequired=True, searchQuery='', location='', requiredToAddedToCommandLine=False, outputStreaming=False, type=3), OutputDataObjectType(dataMovement=False, name='Gaussian-Standard-Error', value='', applicationArgument='', isRequired=True, searchQuery='', location='', requiredToAddedToCommandLine=False, outputStreaming=False, type=6), OutputDataObjectType(dataMovement=False, name='Gaussian-Standard-Out', value='', applicationArgument='', isRequired=True, searchQuery='', location='', requiredToAddedToCommandLine=False, outputStreaming=False, type=5)], applicationModules=['Gaussian16_3e749c7d-6b02-4356-acc3-a58423210bda']),\n",
       " ApplicationInterfaceDescription(applicationName='Amber_pmemd', applicationInputs=[InputDataObjectType(userFriendlyDescription='Heating up the system equilibration stage - 02_Heat.rst', name='Heat-Restart-File', dataStaged=False, value='', applicationArgument='-c', isRequired=True, standardInput=False, requiredToAddedToCommandLine=True, type=3, inputOrder=1, metaData=''), InputDataObjectType(userFriendlyDescription='Parameter and Topology coordinates - prmtop', name='Parameter-Topology-File', dataStaged=False, value='', applicationArgument='-p', isRequired=True, standardInput=False, requiredToAddedToCommandLine=True, type=3, inputOrder=3, metaData=''), InputDataObjectType(userFriendlyDescription='Constant pressure and temperature for production stage - 03_Prod.in', name='Production-Control-File', dataStaged=False, value='', applicationArgument='-i', isRequired=True, standardInput=False, requiredToAddedToCommandLine=True, type=3, inputOrder=2, metaData=''), InputDataObjectType(userFriendlyDescription='The reference structure is specified using the -ref flag in the same manner as is used for Cartesian coordinate restraints (NTR=1). Targeted MD can be used with\\r\\nor without positional restraints.', name='Reference-coordinate-file', dataStaged=False, value='', applicationArgument='-ref', isRequired=False, standardInput=False, requiredToAddedToCommandLine=True, type=3, inputOrder=4, metaData='')], applicationInterfaceId='Amber_pmemd_274841f0-3b5e-4b74-8eb1-dd66283c5057', applicationDescription='Assisted Model Building with Energy Refinement MD Package', applicationOutputs=[OutputDataObjectType(dataMovement=False, name='Amber-Execution-Log', value='03_Prod.out', applicationArgument='-o', isRequired=True, searchQuery='', location='', requiredToAddedToCommandLine=True, outputStreaming=False, type=3), OutputDataObjectType(dataMovement=False, name='Amber-Execution-Summary', value='03_Prod.info', applicationArgument='-inf', isRequired=True, searchQuery='', location='', requiredToAddedToCommandLine=True, outputStreaming=False, type=3), OutputDataObjectType(dataMovement=False, name='Amber-Restart-File', value='03_Prod.rst', applicationArgument='-r', isRequired=True, searchQuery='', location='', requiredToAddedToCommandLine=True, outputStreaming=False, type=3), OutputDataObjectType(dataMovement=False, name='Amber-Standard-Error', value='', applicationArgument='', isRequired=True, searchQuery='', location='', requiredToAddedToCommandLine=False, outputStreaming=False, type=6), OutputDataObjectType(dataMovement=False, name='Amber-Standard-Out', value='', applicationArgument='', isRequired=True, searchQuery='', location='', requiredToAddedToCommandLine=False, outputStreaming=False, type=5), OutputDataObjectType(dataMovement=False, name='Amber-Trajectory-File', value='03_Prod.mdcrd', applicationArgument='-x', isRequired=True, searchQuery='', location='', requiredToAddedToCommandLine=True, outputStreaming=False, type=3)], applicationModules=['Amber-Sander_e8ce4375-aa60-4dd9-aff5-61bbe1f275c0']),\n",
       " ApplicationInterfaceDescription(applicationName='Amber-pmemd-min', applicationInputs=[InputDataObjectType(userFriendlyDescription='Heating up the system equilibration stage - 02_Heat.rst', name='Amber-Coordinates-file', dataStaged=False, value='', applicationArgument='-c', isRequired=True, standardInput=False, requiredToAddedToCommandLine=True, type=3, inputOrder=1, metaData=''), InputDataObjectType(userFriendlyDescription='Parameter and Topology coordinates - prmtop', name='Parameter-Topology-File', dataStaged=False, value='', applicationArgument='-p', isRequired=True, standardInput=False, requiredToAddedToCommandLine=True, type=3, inputOrder=3, metaData=''), InputDataObjectType(userFriendlyDescription='Input file with simulations conditions', name='Production-Control-Input-File', dataStaged=False, value='', applicationArgument='-i', isRequired=True, standardInput=False, requiredToAddedToCommandLine=True, type=3, inputOrder=2, metaData='')], applicationInterfaceId='Amber-pmemd-min_10df4de9-bc80-491b-878b-97742b9519ae', applicationDescription='Assisted Model Building with Energy Refinement MD Package', applicationOutputs=[OutputDataObjectType(dataMovement=False, name='Amber-Execution-Log', value='03_Prod.out', applicationArgument='-o', isRequired=True, searchQuery='', location='', requiredToAddedToCommandLine=True, outputStreaming=False, type=3), OutputDataObjectType(dataMovement=False, name='Amber-Execution-Summary', value='03_Prod.info', applicationArgument='-inf', isRequired=True, searchQuery='', location='', requiredToAddedToCommandLine=True, outputStreaming=False, type=3), OutputDataObjectType(dataMovement=False, name='Amber-Restart-File', value='03_Prod.rst', applicationArgument='-r', isRequired=True, searchQuery='', location='', requiredToAddedToCommandLine=True, outputStreaming=False, type=3), OutputDataObjectType(dataMovement=False, name='Amber-Standard-Error', value='', applicationArgument='', isRequired=True, searchQuery='', location='', requiredToAddedToCommandLine=False, outputStreaming=False, type=6), OutputDataObjectType(dataMovement=False, name='Amber-Standard-Out', value='', applicationArgument='', isRequired=True, searchQuery='', location='', requiredToAddedToCommandLine=False, outputStreaming=False, type=5), OutputDataObjectType(dataMovement=False, name='Amber-Trajectory-File', value='03_Prod.mdcrd', applicationArgument='-x', isRequired=True, searchQuery='', location='', requiredToAddedToCommandLine=True, outputStreaming=False, type=3)], applicationModules=['Amber-Sander_e8ce4375-aa60-4dd9-aff5-61bbe1f275c0'])]"
      ]
     },
     "execution_count": 6,
     "metadata": {},
     "output_type": "execute_result"
    }
   ],
   "source": [
    "airavata_cli.list_of_applications('seagrid')"
   ]
  },
  {
   "cell_type": "code",
   "execution_count": 7,
   "metadata": {
    "collapsed": false
   },
   "outputs": [
    {
     "data": {
      "text/plain": [
       "[ApplicationModule(appModuleName='Echo', appModuleVersion='', appModuleId='Echo_19dc358d-d241-43d8-918c-f5a21a3b0845', appModuleDescription='A Simple Echo Application'),\n",
       " ApplicationModule(appModuleName='Amber_Sander', appModuleVersion='', appModuleId='Amber-Sander_e8ce4375-aa60-4dd9-aff5-61bbe1f275c0', appModuleDescription='Assisted Model Building with Energy Refinement MD Package'),\n",
       " ApplicationModule(appModuleName='Gaussian', appModuleVersion='', appModuleId='Gaussian_57eb2905-1cd8-400e-ad40-cadfba8f434f', appModuleDescription='Gaussian provides capabilities for electronic structure modeling.'),\n",
       " ApplicationModule(appModuleName='AutoDock', appModuleVersion='', appModuleId='AutoDock_24d6d7da-1160-45b0-9958-63bcc9044804', appModuleDescription='AutoDock suite of automated docking tools'),\n",
       " ApplicationModule(appModuleName='Gromacs', appModuleVersion='', appModuleId='Gromacs_17f97a2e-bdea-4075-9425-6bde4a8d1317', appModuleDescription='GROMACS Molecular Dynamics Package'),\n",
       " ApplicationModule(appModuleName='Lammps_BR2', appModuleVersion='', appModuleId='Lammps_1f150b05-6295-43c5-8040-27992693cef6', appModuleDescription='Large-scale Atomic/Molecular Massively Parallel Simulator for BigRedII'),\n",
       " ApplicationModule(appModuleName='NWChem', appModuleVersion='', appModuleId='NWChem_2f38a95e-c2aa-4db3-b1bf-2adb006a34bc', appModuleDescription='Ab initio computational chemistry software package'),\n",
       " ApplicationModule(appModuleName='Gamess_BR2', appModuleVersion='', appModuleId='Gamess_BR2_5c979001-d994-47fb-a9af-5227ff5c5c55', appModuleDescription='A Gamess Application in BigRedII'),\n",
       " ApplicationModule(appModuleName='NEK5000', appModuleVersion='', appModuleId='NEK5000_35922b60-f0ad-41dd-8b3c-7877617767d8', appModuleDescription='Open source, highly scalable and portable spectral element code designed to simulate fluid  flows about objects.'),\n",
       " ApplicationModule(appModuleName='Abinit', appModuleVersion='', appModuleId='Abinit_34e497ac-28cd-42a2-afe0-1ee99f173c6d', appModuleDescription='ABINIT is a package whose main program allows one to find the total energy, charge density and electronic structure of systems made of electrons and nuclei (molecules and periodic solids) within Density Functional Theory (DFT)'),\n",
       " ApplicationModule(appModuleName='Quantum_Espresso', appModuleVersion='', appModuleId='Quantum_Espresso_cf47dccc-c870-4e76-be68-784a1574426e', appModuleDescription='Nanoscale electronic-structure calculations and materials modeling'),\n",
       " ApplicationModule(appModuleName='Lammps', appModuleVersion='', appModuleId='Lammps_4e799726-669e-4b87-9a7d-9d567d83c1c7', appModuleDescription='Large-scale Atomic/Molecular Massively Parallel Simulator'),\n",
       " ApplicationModule(appModuleName='CP2K', appModuleVersion='', appModuleId='CP2K_3d1895c9-03e1-4ba7-96b3-94bf2c88c865', appModuleDescription='CP2K Test Application Module'),\n",
       " ApplicationModule(appModuleName='Phasta_P', appModuleVersion='', appModuleId='Phasta_P_681394ed-212a-404e-b336-e5d41593016f', appModuleDescription='Parallel version of PHASTA'),\n",
       " ApplicationModule(appModuleName='Gamess', appModuleVersion='', appModuleId='Gamess_6ed12ada-a6a7-4df5-b044-b9a5e2b0c49b', appModuleDescription='Gamess Application'),\n",
       " ApplicationModule(appModuleName='Tinker_Monte', appModuleVersion='', appModuleId='Tinker_Monte_b11b893a-626b-4778-997a-2da92537b4b7', appModuleDescription='GridChem Tinker Monte Application'),\n",
       " ApplicationModule(appModuleName='CPMD', appModuleVersion='', appModuleId='CPMD_6870dafa-e2e3-4fe6-a0e2-5b11c1436af4', appModuleDescription='parallelized plane wave / pseudopotential implementation of Density Functional Theory, particularly designed for ab-initio molecular dynamics.'),\n",
       " ApplicationModule(appModuleName='QChem', appModuleVersion='', appModuleId='QChem_9214bc96-2bf8-4ba2-b717-a1cd4dc98a4f', appModuleDescription='Quantum Chemistry Application'),\n",
       " ApplicationModule(appModuleName='DDSCat', appModuleVersion='', appModuleId='DDSCat_b01bf3eb-7e19-4ebe-bd18-32af7c81e5df', appModuleDescription='Discrete Dipole Approximation Scattering (DDSCAT) code'),\n",
       " ApplicationModule(appModuleName='DFTB+', appModuleVersion='', appModuleId='DFTB+_9add4ce4-7f57-495a-bb1a-eff570b56441', appModuleDescription='Semi empirical Quantum Chemistry'),\n",
       " ApplicationModule(appModuleName='WRF', appModuleVersion='', appModuleId='WRF_17f339d1-92e3-4eb9-a72e-cb4961d685a9', appModuleDescription='Weather Research and Forecasting'),\n",
       " ApplicationModule(appModuleName='Gamess_Stampede', appModuleVersion='', appModuleId='Gamess_Stampede_1eb6c1f7-9292-456d-b1c3-1b88c3936b68', appModuleDescription='Gamess Application Module in Stampede'),\n",
       " ApplicationModule(appModuleName='Molcas', appModuleVersion='', appModuleId='Molcas_f7dd5a10-0f8d-43b0-9c88-ec1a648dd037', appModuleDescription='Computational Chemistry QM'),\n",
       " ApplicationModule(appModuleName='Abaqus', appModuleVersion='', appModuleId='Abaqus_96a88449-b4cd-4a39-8ad2-26abfbdd4b3e', appModuleDescription='Finite Element Analysis, Enginnering'),\n",
       " ApplicationModule(appModuleName='test', appModuleVersion='', appModuleId='test_0282ea6b-8203-405f-b115-f86b4cd3b9e3', appModuleDescription=''),\n",
       " ApplicationModule(appModuleName='AutoDock_Vina', appModuleVersion='', appModuleId='AutoDock_Vina_2bf91893-d75b-4478-9039-1aed216b5866', appModuleDescription=''),\n",
       " ApplicationModule(appModuleName='Vina_Multiple', appModuleVersion='', appModuleId='Vina_Multiple_d0292a2f-6555-4364-b3be-d84b47ceeced', appModuleDescription='AutoDock Vina to launch with multiple Ligands'),\n",
       " ApplicationModule(appModuleName='PSI4.0', appModuleVersion='', appModuleId='PSI4.0_80cfebe1-fef8-49c3-a8eb-00b735bd817f', appModuleDescription='Psi4 is an open-source suite of ab initio quantum chemistry programs designed for efficient, high-accuracy simulations of a variety of molecular properties.'),\n",
       " ApplicationModule(appModuleName='Abaqus-6.13-3', appModuleVersion='6.13-3', appModuleId='Abaqus-6.13-3_be287dc9-4347-4fba-a308-465010e5f7d0', appModuleDescription='Finite Element Analysis, Engineering'),\n",
       " ApplicationModule(appModuleName='Trinity', appModuleVersion='2.2.0', appModuleId='Trinity_b32b104d-501e-42f6-a35a-18540190cf2e', appModuleDescription='De novo reconstruction of transcriptomes from RNA-seq data'),\n",
       " ApplicationModule(appModuleName='Gaussian16', appModuleVersion='Gaussian 16:  ES64L-G16RevA.03', appModuleId='Gaussian16_3e749c7d-6b02-4356-acc3-a58423210bda', appModuleDescription='Gaussian computes molecular electronic properties using ab inito and dft techniques'),\n",
       " ApplicationModule(appModuleName='Amber_pmemd', appModuleVersion='', appModuleId='Amber_pmemd_d5011de7-7544-4af0-a6e0-384f85127766', appModuleDescription='Assisted Model Building with Energy Refinement MD Package with Particle Mesh Ewald summation for electrostatic interactions')]"
      ]
     },
     "execution_count": 7,
     "metadata": {},
     "output_type": "execute_result"
    }
   ],
   "source": [
    "airavata_cli.module_descriptions('seagrid')     "
   ]
  },
  {
   "cell_type": "markdown",
   "metadata": {
    "collapsed": false
   },
   "source": [
    "##Setting the time parameters"
   ]
  },
  {
   "cell_type": "code",
   "execution_count": 8,
   "metadata": {
    "collapsed": true
   },
   "outputs": [],
   "source": [
    "start= datetime(2015,7,16,15,10)\n",
    "end= datetime(2016,7,17,11,59)\n",
    "fromTime = calendar.timegm(start.timetuple())\n",
    "toTime = calendar.timegm(end.timetuple())"
   ]
  },
  {
   "cell_type": "markdown",
   "metadata": {
    "collapsed": true
   },
   "source": [
    "## Getting the list of Experiments executed during the above mentioned period"
   ]
  },
  {
   "cell_type": "code",
   "execution_count": 9,
   "metadata": {
    "collapsed": false
   },
   "outputs": [],
   "source": [
    "ds=airavata_cli.experiment_statistics(\"seagrid\", fromTime*1000, toTime*1000)\n",
    "#ds"
   ]
  },
  {
   "cell_type": "code",
   "execution_count": 10,
   "metadata": {
    "collapsed": false
   },
   "outputs": [
    {
     "data": {
      "text/html": [
       "<div>\n",
       "<table border=\"1\" class=\"dataframe\">\n",
       "  <thead>\n",
       "    <tr style=\"text-align: right;\">\n",
       "      <th></th>\n",
       "      <th>User Name</th>\n",
       "      <th>Name</th>\n",
       "      <th>Status Update</th>\n",
       "      <th>Resource Host ID</th>\n",
       "      <th>Project ID</th>\n",
       "      <th>Creation Time</th>\n",
       "      <th>Experiment ID</th>\n",
       "      <th>Execution ID</th>\n",
       "      <th>Gateway ID</th>\n",
       "      <th>Experiment Status</th>\n",
       "    </tr>\n",
       "  </thead>\n",
       "  <tbody>\n",
       "    <tr>\n",
       "      <th>0</th>\n",
       "      <td>spamidig</td>\n",
       "      <td>nitromethane</td>\n",
       "      <td>None</td>\n",
       "      <td>bigred2.uits.iu.edu_ac140dca-3c88-46d8-b9ed-87...</td>\n",
       "      <td>XSEDE2016_91b3b903-e1d8-4959-86f4-86c30bd360a3</td>\n",
       "      <td>1468699643000</td>\n",
       "      <td>nitromethane_aeef7c36-37bd-47f4-ab58-baaf299f4da5</td>\n",
       "      <td>Gaussian_4e76aecd-d504-4ce2-9ccf-da9550159e7c</td>\n",
       "      <td>seagrid</td>\n",
       "      <td>COMPLETED</td>\n",
       "    </tr>\n",
       "    <tr>\n",
       "      <th>1</th>\n",
       "      <td>spamidig</td>\n",
       "      <td>norbornane</td>\n",
       "      <td>None</td>\n",
       "      <td>comet.sdsc.edu_91b900df-0ee0-4909-89b3-98e8f64...</td>\n",
       "      <td>XSEDE2016_91b3b903-e1d8-4959-86f4-86c30bd360a3</td>\n",
       "      <td>1468693309000</td>\n",
       "      <td>norbornane_a9185079-644f-497b-8a32-fc57cd6f21fd</td>\n",
       "      <td>Gaussian_4e76aecd-d504-4ce2-9ccf-da9550159e7c</td>\n",
       "      <td>seagrid</td>\n",
       "      <td>COMPLETED</td>\n",
       "    </tr>\n",
       "    <tr>\n",
       "      <th>2</th>\n",
       "      <td>SEAGRID1</td>\n",
       "      <td>norbornane</td>\n",
       "      <td>None</td>\n",
       "      <td>comet.sdsc.edu_91b900df-0ee0-4909-89b3-98e8f64...</td>\n",
       "      <td>SeagridTestProject1_5d4b4780-e893-406e-a857-6f...</td>\n",
       "      <td>1468693286000</td>\n",
       "      <td>norbornane_522de3d6-eacf-483d-b59e-65f3935ab28b</td>\n",
       "      <td>Gaussian_4e76aecd-d504-4ce2-9ccf-da9550159e7c</td>\n",
       "      <td>seagrid</td>\n",
       "      <td>COMPLETED</td>\n",
       "    </tr>\n",
       "    <tr>\n",
       "      <th>3</th>\n",
       "      <td>XSEDE_DEMO_1</td>\n",
       "      <td>norbornane</td>\n",
       "      <td>None</td>\n",
       "      <td>comet.sdsc.edu_91b900df-0ee0-4909-89b3-98e8f64...</td>\n",
       "      <td>XSEDE16DEMOProject1_64d33174-3b6e-4657-a278-90...</td>\n",
       "      <td>1468693285000</td>\n",
       "      <td>norbornane_a735083f-2151-4f54-9d21-ad034188bd6c</td>\n",
       "      <td>Gaussian_4e76aecd-d504-4ce2-9ccf-da9550159e7c</td>\n",
       "      <td>seagrid</td>\n",
       "      <td>COMPLETED</td>\n",
       "    </tr>\n",
       "    <tr>\n",
       "      <th>4</th>\n",
       "      <td>jeffdkinnison</td>\n",
       "      <td>gaussian</td>\n",
       "      <td>None</td>\n",
       "      <td>comet.sdsc.edu_91b900df-0ee0-4909-89b3-98e8f64...</td>\n",
       "      <td>xsedetutorial_4459e403-4ea5-41da-bc89-a356cf03...</td>\n",
       "      <td>1468691664000</td>\n",
       "      <td>gaussian_bcee6269-64b0-4417-beaa-f7d0f59f015a</td>\n",
       "      <td>Gaussian_4e76aecd-d504-4ce2-9ccf-da9550159e7c</td>\n",
       "      <td>seagrid</td>\n",
       "      <td>COMPLETED</td>\n",
       "    </tr>\n",
       "  </tbody>\n",
       "</table>\n",
       "</div>"
      ],
      "text/plain": [
       "       User Name          Name Status Update  \\\n",
       "0       spamidig  nitromethane          None   \n",
       "1       spamidig    norbornane          None   \n",
       "2       SEAGRID1    norbornane          None   \n",
       "3   XSEDE_DEMO_1    norbornane          None   \n",
       "4  jeffdkinnison      gaussian          None   \n",
       "\n",
       "                                    Resource Host ID  \\\n",
       "0  bigred2.uits.iu.edu_ac140dca-3c88-46d8-b9ed-87...   \n",
       "1  comet.sdsc.edu_91b900df-0ee0-4909-89b3-98e8f64...   \n",
       "2  comet.sdsc.edu_91b900df-0ee0-4909-89b3-98e8f64...   \n",
       "3  comet.sdsc.edu_91b900df-0ee0-4909-89b3-98e8f64...   \n",
       "4  comet.sdsc.edu_91b900df-0ee0-4909-89b3-98e8f64...   \n",
       "\n",
       "                                          Project ID  Creation Time  \\\n",
       "0     XSEDE2016_91b3b903-e1d8-4959-86f4-86c30bd360a3  1468699643000   \n",
       "1     XSEDE2016_91b3b903-e1d8-4959-86f4-86c30bd360a3  1468693309000   \n",
       "2  SeagridTestProject1_5d4b4780-e893-406e-a857-6f...  1468693286000   \n",
       "3  XSEDE16DEMOProject1_64d33174-3b6e-4657-a278-90...  1468693285000   \n",
       "4  xsedetutorial_4459e403-4ea5-41da-bc89-a356cf03...  1468691664000   \n",
       "\n",
       "                                       Experiment ID  \\\n",
       "0  nitromethane_aeef7c36-37bd-47f4-ab58-baaf299f4da5   \n",
       "1    norbornane_a9185079-644f-497b-8a32-fc57cd6f21fd   \n",
       "2    norbornane_522de3d6-eacf-483d-b59e-65f3935ab28b   \n",
       "3    norbornane_a735083f-2151-4f54-9d21-ad034188bd6c   \n",
       "4      gaussian_bcee6269-64b0-4417-beaa-f7d0f59f015a   \n",
       "\n",
       "                                    Execution ID Gateway ID Experiment Status  \n",
       "0  Gaussian_4e76aecd-d504-4ce2-9ccf-da9550159e7c    seagrid         COMPLETED  \n",
       "1  Gaussian_4e76aecd-d504-4ce2-9ccf-da9550159e7c    seagrid         COMPLETED  \n",
       "2  Gaussian_4e76aecd-d504-4ce2-9ccf-da9550159e7c    seagrid         COMPLETED  \n",
       "3  Gaussian_4e76aecd-d504-4ce2-9ccf-da9550159e7c    seagrid         COMPLETED  \n",
       "4  Gaussian_4e76aecd-d504-4ce2-9ccf-da9550159e7c    seagrid         COMPLETED  "
      ]
     },
     "execution_count": 10,
     "metadata": {},
     "output_type": "execute_result"
    }
   ],
   "source": [
    "All_Experiments = []\n",
    "for i in ds.allExperiments:\n",
    "    All_Experiments.append([i.userName, i.name, i.statusUpdateTime, i.resourceHostId, i.projectId, i.creationTime, \n",
    "                                i.experimentId, i.executionId, i.gatewayId, i.experimentStatus])\n",
    "labels = [\"User Name\", \"Name\", \"Status Update\", \"Resource Host ID\", \"Project ID\", \"Creation Time\", \"Experiment ID\", \n",
    "          \"Execution ID\", \"Gateway ID\", \"Experiment Status\"]\n",
    "df = pd.DataFrame(data=All_Experiments, columns=labels)\n",
    "df.head()"
   ]
  },
  {
   "cell_type": "code",
   "execution_count": 11,
   "metadata": {
    "collapsed": false
   },
   "outputs": [
    {
     "data": {
      "text/plain": [
       "(1519, 10)"
      ]
     },
     "execution_count": 11,
     "metadata": {},
     "output_type": "execute_result"
    }
   ],
   "source": [
    "df.shape"
   ]
  },
  {
   "cell_type": "markdown",
   "metadata": {
    "collapsed": true
   },
   "source": [
    "## Calculating percentage use of resources"
   ]
  },
  {
   "cell_type": "code",
   "execution_count": 12,
   "metadata": {
    "collapsed": true
   },
   "outputs": [],
   "source": [
    "ls5_cn = sum([1 for x, row in df.iterrows() if row[3] == 'ls5.tacc.utexas.edu_6dd67b08-30e5-4f74-bdd6-aad1f8310ecf' and row[9] == 'COMPLETED'])\n",
    "stampede_cn = sum([1 for x, row in df.iterrows() if row[3] == 'stampede.tacc.xsede.org_bf7958ae-f9d4-468b-b146-a201fb89bf12' and row[9] == 'COMPLETED'])\n",
    "comet_cn = sum([1 for x, row in df.iterrows() if row[3] == 'comet.sdsc.edu_f24b0bba-5230-498d-97e2-46a975ee035b' and row[9] == 'COMPLETED'])\n",
    "gordon_cn= sum([1 for x, row in df.iterrows() if row[3] == 'gordon.sdsc.edu_f9363997-4614-477f-847e-79d262ee8ef7' and row[9] == 'COMPLETED'])\n",
    "#jureca_cn = sum([1 for x, row in df.iterrows() if row[3] == 'Jureca_32098185-4396-4c11-afb7-26e991a03476' and row[9] == 'COMPLETED'])\n",
    "alamo_cn = sum([1 for x, row in df.iterrows() if row[3] == 'alamo.uthscsa.edu_4793b5cc-b991-4e43-b82d-17163b64ef29' and row[9] == 'COMPLETED'])"
   ]
  },
  {
   "cell_type": "code",
   "execution_count": 13,
   "metadata": {
    "collapsed": false
   },
   "outputs": [
    {
     "ename": "NameError",
     "evalue": "name 'plt' is not defined",
     "output_type": "error",
     "traceback": [
      "\u001b[0;31m---------------------------------------------------------------------------\u001b[0m",
      "\u001b[0;31mNameError\u001b[0m                                 Traceback (most recent call last)",
      "\u001b[0;32m<ipython-input-13-ba06eef552f2>\u001b[0m in \u001b[0;36m<module>\u001b[0;34m()\u001b[0m\n\u001b[1;32m      2\u001b[0m \u001b[0mcols\u001b[0m \u001b[0;34m=\u001b[0m \u001b[0;34m[\u001b[0m\u001b[0;34m'c'\u001b[0m\u001b[0;34m,\u001b[0m\u001b[0;34m'm'\u001b[0m\u001b[0;34m,\u001b[0m\u001b[0;34m'r'\u001b[0m\u001b[0;34m,\u001b[0m\u001b[0;34m'w'\u001b[0m\u001b[0;34m,\u001b[0m\u001b[0;34m'y'\u001b[0m\u001b[0;34m]\u001b[0m\u001b[0;34m\u001b[0m\u001b[0m\n\u001b[1;32m      3\u001b[0m \u001b[0mHosts\u001b[0m\u001b[0;34m=\u001b[0m \u001b[0;34m[\u001b[0m\u001b[0;34m\"lonestar\"\u001b[0m\u001b[0;34m,\u001b[0m\u001b[0;34m\"stampede\"\u001b[0m\u001b[0;34m,\u001b[0m\u001b[0;34m\"comet\"\u001b[0m\u001b[0;34m,\u001b[0m\u001b[0;34m\"gordon\"\u001b[0m \u001b[0;34m,\u001b[0m \u001b[0;34m\"alamo\"\u001b[0m\u001b[0;34m]\u001b[0m\u001b[0;34m\u001b[0m\u001b[0m\n\u001b[0;32m----> 4\u001b[0;31m plt.pie(slices,\n\u001b[0m\u001b[1;32m      5\u001b[0m         \u001b[0mlabels\u001b[0m\u001b[0;34m=\u001b[0m \u001b[0mHosts\u001b[0m\u001b[0;34m,\u001b[0m\u001b[0;34m\u001b[0m\u001b[0m\n\u001b[1;32m      6\u001b[0m         \u001b[0mcolors\u001b[0m\u001b[0;34m=\u001b[0m\u001b[0mcols\u001b[0m\u001b[0;34m,\u001b[0m\u001b[0;34m\u001b[0m\u001b[0m\n",
      "\u001b[0;31mNameError\u001b[0m: name 'plt' is not defined"
     ]
    }
   ],
   "source": [
    "slices= [ls5_cn,stampede_cn,comet_cn,gordon_cn,alamo_cn]\n",
    "cols = ['c','m','r','w','y']\n",
    "Hosts= [\"lonestar\",\"stampede\",\"comet\",\"gordon\" , \"alamo\"]\n",
    "plt.pie(slices,\n",
    "        labels= Hosts,\n",
    "        colors=cols,\n",
    "        startangle=90,\n",
    "        shadow= False,\n",
    "        autopct='%1.1f%%')\n",
    "\n",
    "plt.title('Percentage Use by Resources')\n",
    "plt.show()"
   ]
  },
  {
   "cell_type": "markdown",
   "metadata": {
    "collapsed": true
   },
   "source": [
    "##Percentage failed by resources"
   ]
  },
  {
   "cell_type": "code",
   "execution_count": 14,
   "metadata": {
    "collapsed": true
   },
   "outputs": [],
   "source": [
    "ls5_fn = sum([1 for x, row in df.iterrows() if row[3] == 'ls5.tacc.utexas.edu_6dd67b08-30e5-4f74-bdd6-aad1f8310ecf' and row[9] == 'FAILED'])\n",
    "stampede_fn = sum([1 for x, row in df.iterrows() if row[3] == 'stampede.tacc.xsede.org_bf7958ae-f9d4-468b-b146-a201fb89bf12' and row[9] == 'FAILED'])\n",
    "comet_fn = sum([1 for x, row in df.iterrows() if row[3] == 'comet.sdsc.edu_f24b0bba-5230-498d-97e2-46a975ee035b' and row[9] == 'FAILED'])\n",
    "gordon_fn= sum([1 for x, row in df.iterrows() if row[3] == 'gordon.sdsc.edu_f9363997-4614-477f-847e-79d262ee8ef7' and row[9] == 'FAILED'])\n",
    "#jureca_fn = sum([1 for x, row in df.iterrows() if row[3] == 'Jureca_32098185-4396-4c11-afb7-26e991a03476' and row[9] == 'FAILED'])\n",
    "alamo_fn = sum([1 for x, row in df.iterrows() if row[3] == 'alamo.uthscsa.edu_4793b5cc-b991-4e43-b82d-17163b64ef29' and row[9] == 'FAILED'])"
   ]
  },
  {
   "cell_type": "code",
   "execution_count": 15,
   "metadata": {
    "collapsed": false
   },
   "outputs": [
    {
     "data": {
      "image/png": "[encoded data removed]",
      "text/plain": [
       "<matplotlib.figure.Figure at 0x97d1c88>"
      ]
     },
     "metadata": {},
     "output_type": "display_data"
    }
   ],
   "source": [
    "slices= [ls5_fn,stampede_fn,comet_fn,gordon_fn,alamo_fn]\n",
    "cols = ['c','m','r','w','y']\n",
    "Hosts= [\"lonestar\",\"stampede\",\"comet\",\"gordon\" , \"alamo\"]\n",
    "plt.pie(slices,\n",
    "        labels= Hosts,\n",
    "        colors=cols,\n",
    "        startangle=90,\n",
    "        shadow= False,\n",
    "        autopct='%1.1f%%')\n",
    "\n",
    "plt.title('Percentage failure by Resources')\n",
    "plt.show()"
   ]
  },
  {
   "cell_type": "markdown",
   "metadata": {
    "collapsed": true
   },
   "source": [
    "## Percentage cancelled by resources"
   ]
  },
  {
   "cell_type": "code",
   "execution_count": 16,
   "metadata": {
    "collapsed": true
   },
   "outputs": [],
   "source": [
    "ls5_xn = sum([1 for x, row in df.iterrows() if row[3] == 'ls5.tacc.utexas.edu_6dd67b08-30e5-4f74-bdd6-aad1f8310ecf' and row[9] == 'CANCELED'])\n",
    "stampede_xn = sum([1 for x, row in df.iterrows() if row[3] == 'stampede.tacc.xsede.org_bf7958ae-f9d4-468b-b146-a201fb89bf12' and row[9] == 'CANCELED'])\n",
    "comet_xn = sum([1 for x, row in df.iterrows() if row[3] == 'comet.sdsc.edu_f24b0bba-5230-498d-97e2-46a975ee035b' and row[9] == 'CANCELED'])\n",
    "gordon_xn= sum([1 for x, row in df.iterrows() if row[3] == 'gordon.sdsc.edu_f9363997-4614-477f-847e-79d262ee8ef7' and row[9] == 'CANCELED'])\n",
    "#jureca_xn = sum([1 for x, row in df.iterrows() if row[3] == 'Jureca_32098185-4396-4c11-afb7-26e991a03476' and row[9] == 'CANCELED'])\n",
    "alamo_xn = sum([1 for x, row in df.iterrows() if row[3] == 'alamo.uthscsa.edu_4793b5cc-b991-4e43-b82d-17163b64ef29' and row[9] == 'CANCELED'])"
   ]
  },
  {
   "cell_type": "code",
   "execution_count": 17,
   "metadata": {
    "collapsed": false
   },
   "outputs": [
    {
     "data": {
      "image/png": "[encoded data removed]",
      "text/plain": [
       "<matplotlib.figure.Figure at 0x97e6e48>"
      ]
     },
     "metadata": {},
     "output_type": "display_data"
    }
   ],
   "source": [
    "slices= [ls5_xn,stampede_xn,comet_xn,gordon_xn,alamo_xn]\n",
    "cols = ['c','m','r','w','y']\n",
    "Hosts= [\"lonestar\",\"stampede\",\"comet\",\"gordon\" , \"alamo\"]\n",
    "plt.pie(slices,\n",
    "        labels= Hosts,\n",
    "        colors=cols,\n",
    "        startangle=90,\n",
    "        shadow= False,\n",
    "        autopct='%1.1f%%')\n",
    "\n",
    "plt.title('Percentage canceled by Resources')\n",
    "plt.show()"
   ]
  },
  {
   "cell_type": "markdown",
   "metadata": {},
   "source": [
    "## Number of Experiments Canceled by a user"
   ]
  },
  {
   "cell_type": "code",
   "execution_count": 18,
   "metadata": {
    "collapsed": false
   },
   "outputs": [
    {
     "data": {
      "text/plain": [
       "0"
      ]
     },
     "execution_count": 18,
     "metadata": {},
     "output_type": "execute_result"
    }
   ],
   "source": [
    "number = sum([1 for x, row in df.iterrows() if row[0] == 'smarru' and row[9] == 'CANCELED'])\n",
    "number"
   ]
  },
  {
   "cell_type": "markdown",
   "metadata": {},
   "source": [
    "## Sorting users by the number of experiments cancelled/failed"
   ]
  },
  {
   "cell_type": "code",
   "execution_count": 19,
   "metadata": {
    "collapsed": false,
    "scrolled": true
   },
   "outputs": [
    {
     "data": {
      "text/plain": [
       "Daniel_Krzizike_550162c5-88f4-5624-cd19-1147783ec5ed        44\n",
       "Victoria_Saenz_3963bfc5-9a55-d8f4-35f2-a98819ba7825         36\n",
       "Uma_Muthurajan_912a2d20-e858-a4b4-fdbf-6cdf8ec8e182         18\n",
       "Shaoxiong_Tian_f3c15677-e1d3-c894-7539-005f6df5e1b6         18\n",
       "Borries_Demeler_02d0c21b-1adf-9414-c175-d005bb256320         9\n",
       "Akash_Bhattacharya_65724131-4b32-bec4-5974-aa29b945deaf      9\n",
       "Ge_Yu_8d9a3ed0-135a-c974-69f5-44beb56d182f                   6\n",
       "Aysha Kinjo_Demeler_6804fe7e-35ce-f604-3905-bb73330ef346     4\n",
       "Todd_Stone_8aee0ad6-f820-8584-f18a-9a0fa325fd34              4\n",
       "Chris_Pierini_1c0bf9ca-2756-f454-355c-fbce45017f8b           4\n",
       "Gary_Gorbet_84f540d7-3276-8894-a544-fae60062b41c             3\n",
       "Borries_Demeler_0b30314f-70d9-74d4-7564-d9684b1a9a13         3\n",
       "William_Dean_e199fd03-1b9a-a214-ad3f-1d25202091c9            3\n",
       "Chris_Pierini_36b27c6b-f5ad-3794-6d81-0038d249d19b           2\n",
       "Aysha_Demeler_09d108a4-4a6c-f884-e971-5ea68f402fde           1\n",
       "Claudius_Mundoma_e1c6c320-ca98-f704-255c-b44fd6642c4d        1\n",
       "KYUNG_SU_ad389f57-0594-bd44-3986-2ea1ebe42274                1\n",
       "Daniel_Krzizike_84d7ac3a-a900-aad4-790e-1797c3e2110d         1\n",
       "Borries_Demeler_7db4a2d1-66dc-6b44-3935-40bceaa3a9a3         1\n",
       "Todd_Stone_1768d08e-c06c-7224-a58d-32bbd9d685fb              1\n",
       "Name: User Name, dtype: int64"
      ]
     },
     "execution_count": 19,
     "metadata": {},
     "output_type": "execute_result"
    }
   ],
   "source": [
    "df[df['Experiment Status'] == 'CANCELED']['User Name'].value_counts().sort_values(ascending=False)"
   ]
  },
  {
   "cell_type": "markdown",
   "metadata": {},
   "source": [
    "##  Experiments Created by the hour of the day"
   ]
  },
  {
   "cell_type": "code",
   "execution_count": 20,
   "metadata": {
    "collapsed": false
   },
   "outputs": [],
   "source": [
    "df['hour_of_day'] = df['Creation Time'].apply(lambda time: datetime.utcfromtimestamp(time/1000).hour)"
   ]
  },
  {
   "cell_type": "code",
   "execution_count": 21,
   "metadata": {
    "collapsed": false
   },
   "outputs": [
    {
     "data": {
      "text/plain": [
       "<matplotlib.axes._subplots.AxesSubplot at 0x9a0f710>"
      ]
     },
     "execution_count": 21,
     "metadata": {},
     "output_type": "execute_result"
    },
    {
     "data": {
      "image/png": "[encoded data removed]",
      "text/plain": [
       "<matplotlib.figure.Figure at 0x971f9b0>"
      ]
     },
     "metadata": {},
     "output_type": "display_data"
    }
   ],
   "source": [
    "df['hour_of_day'].value_counts().sort_index().plot('bar')"
   ]
  },
  {
   "cell_type": "markdown",
   "metadata": {
    "collapsed": true
   },
   "source": [
    "## Experiments failed by the hour of the day"
   ]
  },
  {
   "cell_type": "code",
   "execution_count": 22,
   "metadata": {
    "collapsed": false
   },
   "outputs": [
    {
     "data": {
      "text/plain": [
       "<matplotlib.axes._subplots.AxesSubplot at 0x971f7b8>"
      ]
     },
     "execution_count": 22,
     "metadata": {},
     "output_type": "execute_result"
    },
    {
     "data": {
      "image/png": "[encoded data removed]",
      "text/plain": [
       "<matplotlib.figure.Figure at 0x9886160>"
      ]
     },
     "metadata": {},
     "output_type": "display_data"
    }
   ],
   "source": [
    "df[df['Experiment Status'] == 'FAILED']['hour_of_day'].value_counts().sort_index().plot('bar')"
   ]
  },
  {
   "cell_type": "markdown",
   "metadata": {
    "collapsed": true
   },
   "source": [
    "## Experiments canceled by the hour of the day"
   ]
  }
 ],
 "metadata": {
  "kernelspec": {
   "display_name": "Python 2",
   "language": "python",
   "name": "python2"
  },
  "language_info": {
   "codemirror_mode": {
    "name": "ipython",
    "version": 2
   },
   "file_extension": ".py",
   "mimetype": "text/x-python",
   "name": "python",
   "nbconvert_exporter": "python",
   "pygments_lexer": "ipython2",
   "version": "2.7.10"
  }
 },
 "nbformat": 4,
 "nbformat_minor": 0
}
